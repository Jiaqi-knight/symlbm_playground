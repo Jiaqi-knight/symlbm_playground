{
 "cells": [
  {
   "cell_type": "code",
   "execution_count": 1,
   "metadata": {},
   "outputs": [],
   "source": [
    "from sympy import *\n",
    "import matplotlib.pyplot as plt\n",
    "\n",
    "init_printing()"
   ]
  },
  {
   "cell_type": "code",
   "execution_count": 2,
   "metadata": {},
   "outputs": [],
   "source": [
    "c = [Matrix(x) for x in [(-1, 1), ( 0, 1), ( 1, 1), (-1, 0), ( 0, 0), ( 1, 0), (-1,-1), ( 0, -1), ( 1, -1)]]"
   ]
  },
  {
   "cell_type": "code",
   "execution_count": 3,
   "metadata": {},
   "outputs": [
    {
     "data": {
      "text/latex": [
       "$$\\left [ \\left[\\begin{matrix}-1\\\\1\\end{matrix}\\right], \\quad \\left[\\begin{matrix}0\\\\1\\end{matrix}\\right], \\quad \\left[\\begin{matrix}1\\\\1\\end{matrix}\\right], \\quad \\left[\\begin{matrix}-1\\\\0\\end{matrix}\\right], \\quad \\left[\\begin{matrix}0\\\\0\\end{matrix}\\right], \\quad \\left[\\begin{matrix}1\\\\0\\end{matrix}\\right], \\quad \\left[\\begin{matrix}-1\\\\-1\\end{matrix}\\right], \\quad \\left[\\begin{matrix}0\\\\-1\\end{matrix}\\right], \\quad \\left[\\begin{matrix}1\\\\-1\\end{matrix}\\right]\\right ]$$"
      ],
      "text/plain": [
       "⎡⎡-1⎤  ⎡0⎤  ⎡1⎤  ⎡-1⎤  ⎡0⎤  ⎡1⎤  ⎡-1⎤  ⎡0 ⎤  ⎡1 ⎤⎤\n",
       "⎢⎢  ⎥, ⎢ ⎥, ⎢ ⎥, ⎢  ⎥, ⎢ ⎥, ⎢ ⎥, ⎢  ⎥, ⎢  ⎥, ⎢  ⎥⎥\n",
       "⎣⎣1 ⎦  ⎣1⎦  ⎣1⎦  ⎣0 ⎦  ⎣0⎦  ⎣0⎦  ⎣-1⎦  ⎣-1⎦  ⎣-1⎦⎦"
      ]
     },
     "execution_count": 3,
     "metadata": {},
     "output_type": "execute_result"
    }
   ],
   "source": [
    "c"
   ]
  },
  {
   "cell_type": "code",
   "execution_count": 4,
   "metadata": {},
   "outputs": [],
   "source": [
    "w = [Rational(*x) for x in [(1,36), (1,9), (1,36), (1,9), (4,9), (1,9), (1,36), (1,9), (1,36)]]"
   ]
  },
  {
   "cell_type": "code",
   "execution_count": 5,
   "metadata": {},
   "outputs": [
    {
     "data": {
      "image/png": "[encoded data removed]",
      "text/latex": [
       "$$\\left [ \\frac{1}{36}, \\quad \\frac{1}{9}, \\quad \\frac{1}{36}, \\quad \\frac{1}{9}, \\quad \\frac{4}{9}, \\quad \\frac{1}{9}, \\quad \\frac{1}{36}, \\quad \\frac{1}{9}, \\quad \\frac{1}{36}\\right ]$$"
      ],
      "text/plain": [
       "[1/36, 1/9, 1/36, 1/9, 4/9, 1/9, 1/36, 1/9, 1/36]"
      ]
     },
     "execution_count": 5,
     "metadata": {},
     "output_type": "execute_result"
    }
   ],
   "source": [
    "w"
   ]
  },
  {
   "cell_type": "code",
   "execution_count": 6,
   "metadata": {},
   "outputs": [
    {
     "data": {
      "image/png": "[encoded data removed]",
      "text/latex": [
       "$$1$$"
      ],
      "text/plain": [
       "1"
      ]
     },
     "execution_count": 6,
     "metadata": {},
     "output_type": "execute_result"
    }
   ],
   "source": [
    "sum(w)"
   ]
  },
  {
   "cell_type": "code",
   "execution_count": 7,
   "metadata": {},
   "outputs": [
    {
     "data": {
      "image/png": "[encoded data removed]",
      "text/latex": [
       "$$\\frac{\\sqrt{3}}{3}$$"
      ],
      "text/plain": [
       "√3\n",
       "──\n",
       "3 "
      ]
     },
     "execution_count": 7,
     "metadata": {},
     "output_type": "execute_result"
    }
   ],
   "source": [
    "c_s = sqrt(Rational(1,3))\n",
    "c_s"
   ]
  },
  {
   "cell_type": "code",
   "execution_count": 22,
   "metadata": {},
   "outputs": [],
   "source": [
    "u_x, u_y, rho, tau = symbols('u_x u_y rho tau')"
   ]
  },
  {
   "cell_type": "code",
   "execution_count": 23,
   "metadata": {},
   "outputs": [
    {
     "data": {
      "text/plain": [
       "array([f_next_0, f_next_1, f_next_2, f_next_3, f_next_4, f_next_5,\n",
       "       f_next_6, f_next_7, f_next_8], dtype=object)"
      ]
     },
     "execution_count": 23,
     "metadata": {},
     "output_type": "execute_result"
    }
   ],
   "source": [
    "f_next = symarray('f_next', 9)\n",
    "f_next"
   ]
  },
  {
   "cell_type": "code",
   "execution_count": 24,
   "metadata": {},
   "outputs": [
    {
     "data": {
      "text/plain": [
       "array([f_curr_0, f_curr_1, f_curr_2, f_curr_3, f_curr_4, f_curr_5,\n",
       "       f_curr_6, f_curr_7, f_curr_8], dtype=object)"
      ]
     },
     "execution_count": 24,
     "metadata": {},
     "output_type": "execute_result"
    }
   ],
   "source": [
    "f_curr = symarray('f_curr', 9)\n",
    "f_curr"
   ]
  },
  {
   "cell_type": "code",
   "execution_count": 25,
   "metadata": {},
   "outputs": [
    {
     "data": {
      "image/png": "[encoded data removed]",
      "text/latex": [
       "$$f_{curr 0} + f_{curr 1} + f_{curr 2} + f_{curr 3} + f_{curr 4} + f_{curr 5} + f_{curr 6} + f_{curr 7} + f_{curr 8}$$"
      ],
      "text/plain": [
       "f_curr_0 + f_curr_1 + f_curr_2 + f_curr_3 + f_curr_4 + f_curr_5 + f_curr_6 + f\n",
       "_curr_7 + f_curr_8"
      ]
     },
     "execution_count": 25,
     "metadata": {},
     "output_type": "execute_result"
    }
   ],
   "source": [
    "rho = sum(f_curr)\n",
    "rho"
   ]
  },
  {
   "cell_type": "code",
   "execution_count": 55,
   "metadata": {},
   "outputs": [],
   "source": [
    "#u_x = sum([ (c_i*f_curr[i])[0] for i, c_i in enumerate(c) ]) / rho\n",
    "#u_x"
   ]
  },
  {
   "cell_type": "code",
   "execution_count": 56,
   "metadata": {},
   "outputs": [],
   "source": [
    "#u_y = sum([ (c_i*f_curr[i])[1] for i, c_i in enumerate(c) ]) / rho\n",
    "#u_y"
   ]
  },
  {
   "cell_type": "code",
   "execution_count": 26,
   "metadata": {},
   "outputs": [
    {
     "data": {
      "text/latex": [
       "$$\\left[\\begin{matrix}u_{x}\\\\u_{y}\\end{matrix}\\right]$$"
      ],
      "text/plain": [
       "⎡uₓ ⎤\n",
       "⎢   ⎥\n",
       "⎣u_y⎦"
      ]
     },
     "execution_count": 26,
     "metadata": {},
     "output_type": "execute_result"
    }
   ],
   "source": [
    "u = Matrix([u_x, u_y])\n",
    "u"
   ]
  },
  {
   "cell_type": "code",
   "execution_count": 27,
   "metadata": {},
   "outputs": [
    {
     "data": {
      "image/png": "[encoded data removed]",
      "text/latex": [
       "$$\\left [ \\left(- \\frac{3 u_{x}^{2}}{2} - 3 u_{x} - \\frac{3 u_{y}^{2}}{2} + 3 u_{y} + \\frac{9 \\left(- u_{x} + u_{y}\\right)^{2}}{2} + 1\\right) \\left(\\frac{f_{curr 0}}{36} + \\frac{f_{curr 1}}{36} + \\frac{f_{curr 2}}{36} + \\frac{f_{curr 3}}{36} + \\frac{f_{curr 4}}{36} + \\frac{f_{curr 5}}{36} + \\frac{f_{curr 6}}{36} + \\frac{f_{curr 7}}{36} + \\frac{f_{curr 8}}{36}\\right), \\quad \\left(- \\frac{3 u_{x}^{2}}{2} + 3 u_{y}^{2} + 3 u_{y} + 1\\right) \\left(\\frac{f_{curr 0}}{9} + \\frac{f_{curr 1}}{9} + \\frac{f_{curr 2}}{9} + \\frac{f_{curr 3}}{9} + \\frac{f_{curr 4}}{9} + \\frac{f_{curr 5}}{9} + \\frac{f_{curr 6}}{9} + \\frac{f_{curr 7}}{9} + \\frac{f_{curr 8}}{9}\\right), \\quad \\left(- \\frac{3 u_{x}^{2}}{2} + 3 u_{x} - \\frac{3 u_{y}^{2}}{2} + 3 u_{y} + \\frac{9 \\left(u_{x} + u_{y}\\right)^{2}}{2} + 1\\right) \\left(\\frac{f_{curr 0}}{36} + \\frac{f_{curr 1}}{36} + \\frac{f_{curr 2}}{36} + \\frac{f_{curr 3}}{36} + \\frac{f_{curr 4}}{36} + \\frac{f_{curr 5}}{36} + \\frac{f_{curr 6}}{36} + \\frac{f_{curr 7}}{36} + \\frac{f_{curr 8}}{36}\\right), \\quad \\left(3 u_{x}^{2} - 3 u_{x} - \\frac{3 u_{y}^{2}}{2} + 1\\right) \\left(\\frac{f_{curr 0}}{9} + \\frac{f_{curr 1}}{9} + \\frac{f_{curr 2}}{9} + \\frac{f_{curr 3}}{9} + \\frac{f_{curr 4}}{9} + \\frac{f_{curr 5}}{9} + \\frac{f_{curr 6}}{9} + \\frac{f_{curr 7}}{9} + \\frac{f_{curr 8}}{9}\\right), \\quad \\left(- \\frac{3 u_{x}^{2}}{2} - \\frac{3 u_{y}^{2}}{2} + 1\\right) \\left(\\frac{4 f_{curr 0}}{9} + \\frac{4 f_{curr 1}}{9} + \\frac{4 f_{curr 2}}{9} + \\frac{4 f_{curr 3}}{9} + \\frac{4 f_{curr 4}}{9} + \\frac{4 f_{curr 5}}{9} + \\frac{4 f_{curr 6}}{9} + \\frac{4 f_{curr 7}}{9} + \\frac{4 f_{curr 8}}{9}\\right), \\quad \\left(3 u_{x}^{2} + 3 u_{x} - \\frac{3 u_{y}^{2}}{2} + 1\\right) \\left(\\frac{f_{curr 0}}{9} + \\frac{f_{curr 1}}{9} + \\frac{f_{curr 2}}{9} + \\frac{f_{curr 3}}{9} + \\frac{f_{curr 4}}{9} + \\frac{f_{curr 5}}{9} + \\frac{f_{curr 6}}{9} + \\frac{f_{curr 7}}{9} + \\frac{f_{curr 8}}{9}\\right), \\quad \\left(- \\frac{3 u_{x}^{2}}{2} - 3 u_{x} - \\frac{3 u_{y}^{2}}{2} - 3 u_{y} + \\frac{9 \\left(- u_{x} - u_{y}\\right)^{2}}{2} + 1\\right) \\left(\\frac{f_{curr 0}}{36} + \\frac{f_{curr 1}}{36} + \\frac{f_{curr 2}}{36} + \\frac{f_{curr 3}}{36} + \\frac{f_{curr 4}}{36} + \\frac{f_{curr 5}}{36} + \\frac{f_{curr 6}}{36} + \\frac{f_{curr 7}}{36} + \\frac{f_{curr 8}}{36}\\right), \\quad \\left(- \\frac{3 u_{x}^{2}}{2} + 3 u_{y}^{2} - 3 u_{y} + 1\\right) \\left(\\frac{f_{curr 0}}{9} + \\frac{f_{curr 1}}{9} + \\frac{f_{curr 2}}{9} + \\frac{f_{curr 3}}{9} + \\frac{f_{curr 4}}{9} + \\frac{f_{curr 5}}{9} + \\frac{f_{curr 6}}{9} + \\frac{f_{curr 7}}{9} + \\frac{f_{curr 8}}{9}\\right), \\quad \\left(- \\frac{3 u_{x}^{2}}{2} + 3 u_{x} - \\frac{3 u_{y}^{2}}{2} - 3 u_{y} + \\frac{9 \\left(u_{x} - u_{y}\\right)^{2}}{2} + 1\\right) \\left(\\frac{f_{curr 0}}{36} + \\frac{f_{curr 1}}{36} + \\frac{f_{curr 2}}{36} + \\frac{f_{curr 3}}{36} + \\frac{f_{curr 4}}{36} + \\frac{f_{curr 5}}{36} + \\frac{f_{curr 6}}{36} + \\frac{f_{curr 7}}{36} + \\frac{f_{curr 8}}{36}\\right)\\right ]$$"
      ],
      "text/plain": [
       "⎡⎛      2               2                        2    ⎞                       \n",
       "⎢⎜  3⋅uₓ           3⋅u_y            9⋅(-uₓ + u_y)     ⎟ ⎛f_curr_0   f_curr_1  \n",
       "⎢⎜- ───── - 3⋅uₓ - ────── + 3⋅u_y + ────────────── + 1⎟⋅⎜──────── + ──────── +\n",
       "⎣⎝    2              2                    2           ⎠ ⎝   36         36     \n",
       "\n",
       "                                                                              \n",
       " f_curr_2   f_curr_3   f_curr_4   f_curr_5   f_curr_6   f_curr_7   f_curr_8⎞  \n",
       " ──────── + ──────── + ──────── + ──────── + ──────── + ──────── + ────────⎟, \n",
       "    36         36         36         36         36         36         36   ⎠  \n",
       "\n",
       "⎛      2                     ⎞                                                \n",
       "⎜  3⋅uₓ         2            ⎟ ⎛f_curr_0   f_curr_1   f_curr_2   f_curr_3   f_\n",
       "⎜- ───── + 3⋅u_y  + 3⋅u_y + 1⎟⋅⎜──────── + ──────── + ──────── + ──────── + ──\n",
       "⎝    2                       ⎠ ⎝   9          9          9          9         \n",
       "\n",
       "                                                     ⎛      2               2 \n",
       "curr_4   f_curr_5   f_curr_6   f_curr_7   f_curr_8⎞  ⎜  3⋅uₓ           3⋅u_y  \n",
       "────── + ──────── + ──────── + ──────── + ────────⎟, ⎜- ───── + 3⋅uₓ - ────── \n",
       " 9          9          9          9          9    ⎠  ⎝    2              2    \n",
       "\n",
       "                      2    ⎞                                                  \n",
       "          9⋅(uₓ + u_y)     ⎟ ⎛f_curr_0   f_curr_1   f_curr_2   f_curr_3   f_cu\n",
       "+ 3⋅u_y + ───────────── + 1⎟⋅⎜──────── + ──────── + ──────── + ──────── + ────\n",
       "                2          ⎠ ⎝   36         36         36         36         3\n",
       "\n",
       "                                                   ⎛                    2    ⎞\n",
       "rr_4   f_curr_5   f_curr_6   f_curr_7   f_curr_8⎞  ⎜    2          3⋅u_y     ⎟\n",
       "──── + ──────── + ──────── + ──────── + ────────⎟, ⎜3⋅uₓ  - 3⋅uₓ - ────── + 1⎟\n",
       "6         36         36         36         36   ⎠  ⎝                 2       ⎠\n",
       "\n",
       "                                                                              \n",
       " ⎛f_curr_0   f_curr_1   f_curr_2   f_curr_3   f_curr_4   f_curr_5   f_curr_6  \n",
       "⋅⎜──────── + ──────── + ──────── + ──────── + ──────── + ──────── + ──────── +\n",
       " ⎝   9          9          9          9          9          9          9      \n",
       "\n",
       "                       ⎛      2        2    ⎞                                 \n",
       " f_curr_7   f_curr_8⎞  ⎜  3⋅uₓ    3⋅u_y     ⎟ ⎛4⋅f_curr_0   4⋅f_curr_1   4⋅f_c\n",
       " ──────── + ────────⎟, ⎜- ───── - ────── + 1⎟⋅⎜────────── + ────────── + ─────\n",
       "    9          9    ⎠  ⎝    2       2       ⎠ ⎝    9            9            9\n",
       "\n",
       "                                                                              \n",
       "urr_2   4⋅f_curr_3   4⋅f_curr_4   4⋅f_curr_5   4⋅f_curr_6   4⋅f_curr_7   4⋅f_c\n",
       "───── + ────────── + ────────── + ────────── + ────────── + ────────── + ─────\n",
       "            9            9            9            9            9            9\n",
       "\n",
       "        ⎛                    2    ⎞                                           \n",
       "urr_8⎞  ⎜    2          3⋅u_y     ⎟ ⎛f_curr_0   f_curr_1   f_curr_2   f_curr_3\n",
       "─────⎟, ⎜3⋅uₓ  + 3⋅uₓ - ────── + 1⎟⋅⎜──────── + ──────── + ──────── + ────────\n",
       "     ⎠  ⎝                 2       ⎠ ⎝   9          9          9          9    \n",
       "\n",
       "                                                          ⎛      2            \n",
       "   f_curr_4   f_curr_5   f_curr_6   f_curr_7   f_curr_8⎞  ⎜  3⋅uₓ           3⋅\n",
       " + ──────── + ──────── + ──────── + ──────── + ────────⎟, ⎜- ───── - 3⋅uₓ - ──\n",
       "      9          9          9          9          9    ⎠  ⎝    2              \n",
       "\n",
       "   2                        2    ⎞                                            \n",
       "u_y            9⋅(-uₓ - u_y)     ⎟ ⎛f_curr_0   f_curr_1   f_curr_2   f_curr_3 \n",
       "──── - 3⋅u_y + ────────────── + 1⎟⋅⎜──────── + ──────── + ──────── + ──────── \n",
       "2                    2           ⎠ ⎝   36         36         36         36    \n",
       "\n",
       "                                                         ⎛      2             \n",
       "  f_curr_4   f_curr_5   f_curr_6   f_curr_7   f_curr_8⎞  ⎜  3⋅uₓ         2    \n",
       "+ ──────── + ──────── + ──────── + ──────── + ────────⎟, ⎜- ───── + 3⋅u_y  - 3\n",
       "     36         36         36         36         36   ⎠  ⎝    2               \n",
       "\n",
       "        ⎞                                                                     \n",
       "        ⎟ ⎛f_curr_0   f_curr_1   f_curr_2   f_curr_3   f_curr_4   f_curr_5   f\n",
       "⋅u_y + 1⎟⋅⎜──────── + ──────── + ──────── + ──────── + ──────── + ──────── + ─\n",
       "        ⎠ ⎝   9          9          9          9          9          9        \n",
       "\n",
       "                                ⎛      2               2                      \n",
       "_curr_6   f_curr_7   f_curr_8⎞  ⎜  3⋅uₓ           3⋅u_y            9⋅(uₓ - u_y\n",
       "─────── + ──────── + ────────⎟, ⎜- ───── + 3⋅uₓ - ────── - 3⋅u_y + ───────────\n",
       "  9          9          9    ⎠  ⎝    2              2                    2    \n",
       "\n",
       " 2    ⎞                                                                       \n",
       ")     ⎟ ⎛f_curr_0   f_curr_1   f_curr_2   f_curr_3   f_curr_4   f_curr_5   f_c\n",
       "── + 1⎟⋅⎜──────── + ──────── + ──────── + ──────── + ──────── + ──────── + ───\n",
       "      ⎠ ⎝   36         36         36         36         36         36         \n",
       "\n",
       "                            ⎤\n",
       "urr_6   f_curr_7   f_curr_8⎞⎥\n",
       "───── + ──────── + ────────⎟⎥\n",
       "36         36         36   ⎠⎦"
      ]
     },
     "execution_count": 27,
     "metadata": {},
     "output_type": "execute_result"
    }
   ],
   "source": [
    "f_eq = []\n",
    "\n",
    "for i, c_i in enumerate(c):\n",
    "    f_eq_i = w[i] * rho * (  1\n",
    "                           + c_i.dot(u)    /    c_s**2\n",
    "                           + c_i.dot(u)**2 / (2*c_s**4)\n",
    "                           - u.dot(u)      / (2*c_s**2) )\n",
    "    f_eq.append(f_eq_i)\n",
    "\n",
    "f_eq"
   ]
  },
  {
   "cell_type": "code",
   "execution_count": 28,
   "metadata": {},
   "outputs": [
    {
     "data": {
      "image/png": "[encoded data removed]",
      "text/latex": [
       "$$\\left [ f_{curr 0} + \\frac{- f_{curr 0} + \\left(- \\frac{3 u_{x}^{2}}{2} - 3 u_{x} - \\frac{3 u_{y}^{2}}{2} + 3 u_{y} + \\frac{9 \\left(- u_{x} + u_{y}\\right)^{2}}{2} + 1\\right) \\left(\\frac{f_{curr 0}}{36} + \\frac{f_{curr 1}}{36} + \\frac{f_{curr 2}}{36} + \\frac{f_{curr 3}}{36} + \\frac{f_{curr 4}}{36} + \\frac{f_{curr 5}}{36} + \\frac{f_{curr 6}}{36} + \\frac{f_{curr 7}}{36} + \\frac{f_{curr 8}}{36}\\right)}{\\tau}, \\quad f_{curr 1} + \\frac{- f_{curr 1} + \\left(- \\frac{3 u_{x}^{2}}{2} + 3 u_{y}^{2} + 3 u_{y} + 1\\right) \\left(\\frac{f_{curr 0}}{9} + \\frac{f_{curr 1}}{9} + \\frac{f_{curr 2}}{9} + \\frac{f_{curr 3}}{9} + \\frac{f_{curr 4}}{9} + \\frac{f_{curr 5}}{9} + \\frac{f_{curr 6}}{9} + \\frac{f_{curr 7}}{9} + \\frac{f_{curr 8}}{9}\\right)}{\\tau}, \\quad f_{curr 2} + \\frac{- f_{curr 2} + \\left(- \\frac{3 u_{x}^{2}}{2} + 3 u_{x} - \\frac{3 u_{y}^{2}}{2} + 3 u_{y} + \\frac{9 \\left(u_{x} + u_{y}\\right)^{2}}{2} + 1\\right) \\left(\\frac{f_{curr 0}}{36} + \\frac{f_{curr 1}}{36} + \\frac{f_{curr 2}}{36} + \\frac{f_{curr 3}}{36} + \\frac{f_{curr 4}}{36} + \\frac{f_{curr 5}}{36} + \\frac{f_{curr 6}}{36} + \\frac{f_{curr 7}}{36} + \\frac{f_{curr 8}}{36}\\right)}{\\tau}, \\quad f_{curr 3} + \\frac{- f_{curr 3} + \\left(3 u_{x}^{2} - 3 u_{x} - \\frac{3 u_{y}^{2}}{2} + 1\\right) \\left(\\frac{f_{curr 0}}{9} + \\frac{f_{curr 1}}{9} + \\frac{f_{curr 2}}{9} + \\frac{f_{curr 3}}{9} + \\frac{f_{curr 4}}{9} + \\frac{f_{curr 5}}{9} + \\frac{f_{curr 6}}{9} + \\frac{f_{curr 7}}{9} + \\frac{f_{curr 8}}{9}\\right)}{\\tau}, \\quad f_{curr 4} + \\frac{- f_{curr 4} + \\left(- \\frac{3 u_{x}^{2}}{2} - \\frac{3 u_{y}^{2}}{2} + 1\\right) \\left(\\frac{4 f_{curr 0}}{9} + \\frac{4 f_{curr 1}}{9} + \\frac{4 f_{curr 2}}{9} + \\frac{4 f_{curr 3}}{9} + \\frac{4 f_{curr 4}}{9} + \\frac{4 f_{curr 5}}{9} + \\frac{4 f_{curr 6}}{9} + \\frac{4 f_{curr 7}}{9} + \\frac{4 f_{curr 8}}{9}\\right)}{\\tau}, \\quad f_{curr 5} + \\frac{- f_{curr 5} + \\left(3 u_{x}^{2} + 3 u_{x} - \\frac{3 u_{y}^{2}}{2} + 1\\right) \\left(\\frac{f_{curr 0}}{9} + \\frac{f_{curr 1}}{9} + \\frac{f_{curr 2}}{9} + \\frac{f_{curr 3}}{9} + \\frac{f_{curr 4}}{9} + \\frac{f_{curr 5}}{9} + \\frac{f_{curr 6}}{9} + \\frac{f_{curr 7}}{9} + \\frac{f_{curr 8}}{9}\\right)}{\\tau}, \\quad f_{curr 6} + \\frac{- f_{curr 6} + \\left(- \\frac{3 u_{x}^{2}}{2} - 3 u_{x} - \\frac{3 u_{y}^{2}}{2} - 3 u_{y} + \\frac{9 \\left(- u_{x} - u_{y}\\right)^{2}}{2} + 1\\right) \\left(\\frac{f_{curr 0}}{36} + \\frac{f_{curr 1}}{36} + \\frac{f_{curr 2}}{36} + \\frac{f_{curr 3}}{36} + \\frac{f_{curr 4}}{36} + \\frac{f_{curr 5}}{36} + \\frac{f_{curr 6}}{36} + \\frac{f_{curr 7}}{36} + \\frac{f_{curr 8}}{36}\\right)}{\\tau}, \\quad f_{curr 7} + \\frac{- f_{curr 7} + \\left(- \\frac{3 u_{x}^{2}}{2} + 3 u_{y}^{2} - 3 u_{y} + 1\\right) \\left(\\frac{f_{curr 0}}{9} + \\frac{f_{curr 1}}{9} + \\frac{f_{curr 2}}{9} + \\frac{f_{curr 3}}{9} + \\frac{f_{curr 4}}{9} + \\frac{f_{curr 5}}{9} + \\frac{f_{curr 6}}{9} + \\frac{f_{curr 7}}{9} + \\frac{f_{curr 8}}{9}\\right)}{\\tau}, \\quad f_{curr 8} + \\frac{- f_{curr 8} + \\left(- \\frac{3 u_{x}^{2}}{2} + 3 u_{x} - \\frac{3 u_{y}^{2}}{2} - 3 u_{y} + \\frac{9 \\left(u_{x} - u_{y}\\right)^{2}}{2} + 1\\right) \\left(\\frac{f_{curr 0}}{36} + \\frac{f_{curr 1}}{36} + \\frac{f_{curr 2}}{36} + \\frac{f_{curr 3}}{36} + \\frac{f_{curr 4}}{36} + \\frac{f_{curr 5}}{36} + \\frac{f_{curr 6}}{36} + \\frac{f_{curr 7}}{36} + \\frac{f_{curr 8}}{36}\\right)}{\\tau}\\right ]$$"
      ],
      "text/plain": [
       "⎡                       ⎛      2               2                        2    ⎞\n",
       "⎢                       ⎜  3⋅uₓ           3⋅u_y            9⋅(-uₓ + u_y)     ⎟\n",
       "⎢           -f_curr_0 + ⎜- ───── - 3⋅uₓ - ────── + 3⋅u_y + ────────────── + 1⎟\n",
       "⎢                       ⎝    2              2                    2           ⎠\n",
       "⎢f_curr_0 + ──────────────────────────────────────────────────────────────────\n",
       "⎣                                                                             \n",
       "\n",
       "                                                                              \n",
       " ⎛f_curr_0   f_curr_1   f_curr_2   f_curr_3   f_curr_4   f_curr_5   f_curr_6  \n",
       "⋅⎜──────── + ──────── + ──────── + ──────── + ──────── + ──────── + ──────── +\n",
       " ⎝   36         36         36         36         36         36         36     \n",
       "──────────────────────────────────────────────────────────────────────────────\n",
       "                τ                                                             \n",
       "\n",
       "                                              ⎛      2                     ⎞  \n",
       " f_curr_7   f_curr_8⎞                         ⎜  3⋅uₓ         2            ⎟ ⎛\n",
       " ──────── + ────────⎟             -f_curr_1 + ⎜- ───── + 3⋅u_y  + 3⋅u_y + 1⎟⋅⎜\n",
       "    36         36   ⎠                         ⎝    2                       ⎠ ⎝\n",
       "─────────────────────, f_curr_1 + ────────────────────────────────────────────\n",
       "                                                                              \n",
       "\n",
       "                                                                              \n",
       "f_curr_0   f_curr_1   f_curr_2   f_curr_3   f_curr_4   f_curr_5   f_curr_6   f\n",
       "──────── + ──────── + ──────── + ──────── + ──────── + ──────── + ──────── + ─\n",
       "   9          9          9          9          9          9          9        \n",
       "──────────────────────────────────────────────────────────────────────────────\n",
       "                          τ                                                   \n",
       "\n",
       "                                            ⎛      2               2          \n",
       "_curr_7   f_curr_8⎞                         ⎜  3⋅uₓ           3⋅u_y           \n",
       "─────── + ────────⎟             -f_curr_2 + ⎜- ───── + 3⋅uₓ - ────── + 3⋅u_y +\n",
       "  9          9    ⎠                         ⎝    2              2             \n",
       "───────────────────, f_curr_2 + ──────────────────────────────────────────────\n",
       "                                                                              \n",
       "\n",
       "             2    ⎞                                                           \n",
       " 9⋅(uₓ + u_y)     ⎟ ⎛f_curr_0   f_curr_1   f_curr_2   f_curr_3   f_curr_4   f_\n",
       " ───────────── + 1⎟⋅⎜──────── + ──────── + ──────── + ──────── + ──────── + ──\n",
       "       2          ⎠ ⎝   36         36         36         36         36        \n",
       "──────────────────────────────────────────────────────────────────────────────\n",
       "                                   τ                                          \n",
       "\n",
       "                                                                 ⎛            \n",
       "curr_5   f_curr_6   f_curr_7   f_curr_8⎞                         ⎜    2       \n",
       "────── + ──────── + ──────── + ────────⎟             -f_curr_3 + ⎜3⋅uₓ  - 3⋅uₓ\n",
       " 36         36         36         36   ⎠                         ⎝            \n",
       "────────────────────────────────────────, f_curr_3 + ─────────────────────────\n",
       "                                                                              \n",
       "\n",
       "        2    ⎞                                                                \n",
       "   3⋅u_y     ⎟ ⎛f_curr_0   f_curr_1   f_curr_2   f_curr_3   f_curr_4   f_curr_\n",
       " - ────── + 1⎟⋅⎜──────── + ──────── + ──────── + ──────── + ──────── + ───────\n",
       "     2       ⎠ ⎝   9          9          9          9          9          9   \n",
       "──────────────────────────────────────────────────────────────────────────────\n",
       "                                           τ                                  \n",
       "\n",
       "                                                            ⎛      2        2 \n",
       "5   f_curr_6   f_curr_7   f_curr_8⎞                         ⎜  3⋅uₓ    3⋅u_y  \n",
       "─ + ──────── + ──────── + ────────⎟             -f_curr_4 + ⎜- ───── - ────── \n",
       "       9          9          9    ⎠                         ⎝    2       2    \n",
       "───────────────────────────────────, f_curr_4 + ──────────────────────────────\n",
       "                                                                              \n",
       "\n",
       "   ⎞                                                                          \n",
       "   ⎟ ⎛4⋅f_curr_0   4⋅f_curr_1   4⋅f_curr_2   4⋅f_curr_3   4⋅f_curr_4   4⋅f_cur\n",
       "+ 1⎟⋅⎜────────── + ────────── + ────────── + ────────── + ────────── + ───────\n",
       "   ⎠ ⎝    9            9            9            9            9            9  \n",
       "──────────────────────────────────────────────────────────────────────────────\n",
       "                                             τ                                \n",
       "\n",
       "                                                                    ⎛         \n",
       "r_5   4⋅f_curr_6   4⋅f_curr_7   4⋅f_curr_8⎞                         ⎜    2    \n",
       "─── + ────────── + ────────── + ──────────⎟             -f_curr_5 + ⎜3⋅uₓ  + 3\n",
       "          9            9            9     ⎠                         ⎝         \n",
       "───────────────────────────────────────────, f_curr_5 + ──────────────────────\n",
       "                                                                              \n",
       "\n",
       "           2    ⎞                                                             \n",
       "      3⋅u_y     ⎟ ⎛f_curr_0   f_curr_1   f_curr_2   f_curr_3   f_curr_4   f_cu\n",
       "⋅uₓ - ────── + 1⎟⋅⎜──────── + ──────── + ──────── + ──────── + ──────── + ────\n",
       "        2       ⎠ ⎝   9          9          9          9          9          9\n",
       "──────────────────────────────────────────────────────────────────────────────\n",
       "                                              τ                               \n",
       "\n",
       "                                                               ⎛      2       \n",
       "rr_5   f_curr_6   f_curr_7   f_curr_8⎞                         ⎜  3⋅uₓ        \n",
       "──── + ──────── + ──────── + ────────⎟             -f_curr_6 + ⎜- ───── - 3⋅uₓ\n",
       "          9          9          9    ⎠                         ⎝    2         \n",
       "──────────────────────────────────────, f_curr_6 + ───────────────────────────\n",
       "                                                                              \n",
       "\n",
       "        2                        2    ⎞                                       \n",
       "   3⋅u_y            9⋅(-uₓ - u_y)     ⎟ ⎛f_curr_0   f_curr_1   f_curr_2   f_cu\n",
       " - ────── - 3⋅u_y + ────────────── + 1⎟⋅⎜──────── + ──────── + ──────── + ────\n",
       "     2                    2           ⎠ ⎝   36         36         36         3\n",
       "──────────────────────────────────────────────────────────────────────────────\n",
       "                                                       τ                      \n",
       "\n",
       "                                                                              \n",
       "rr_3   f_curr_4   f_curr_5   f_curr_6   f_curr_7   f_curr_8⎞                  \n",
       "──── + ──────── + ──────── + ──────── + ──────── + ────────⎟             -f_cu\n",
       "6         36         36         36         36         36   ⎠                  \n",
       "────────────────────────────────────────────────────────────, f_curr_7 + ─────\n",
       "                                                                              \n",
       "\n",
       "       ⎛      2                     ⎞                                         \n",
       "       ⎜  3⋅uₓ         2            ⎟ ⎛f_curr_0   f_curr_1   f_curr_2   f_curr\n",
       "rr_7 + ⎜- ───── + 3⋅u_y  - 3⋅u_y + 1⎟⋅⎜──────── + ──────── + ──────── + ──────\n",
       "       ⎝    2                       ⎠ ⎝   9          9          9          9  \n",
       "──────────────────────────────────────────────────────────────────────────────\n",
       "                                                                 τ            \n",
       "\n",
       "                                                                              \n",
       "_3   f_curr_4   f_curr_5   f_curr_6   f_curr_7   f_curr_8⎞                    \n",
       "── + ──────── + ──────── + ──────── + ──────── + ────────⎟             -f_curr\n",
       "        9          9          9          9          9    ⎠                    \n",
       "──────────────────────────────────────────────────────────, f_curr_8 + ───────\n",
       "                                                                              \n",
       "\n",
       "     ⎛      2               2                       2    ⎞                    \n",
       "     ⎜  3⋅uₓ           3⋅u_y            9⋅(uₓ - u_y)     ⎟ ⎛f_curr_0   f_curr_\n",
       "_8 + ⎜- ───── + 3⋅uₓ - ────── - 3⋅u_y + ───────────── + 1⎟⋅⎜──────── + ───────\n",
       "     ⎝    2              2                    2          ⎠ ⎝   36         36  \n",
       "──────────────────────────────────────────────────────────────────────────────\n",
       "                                                                          τ   \n",
       "\n",
       "                                                                              \n",
       "1   f_curr_2   f_curr_3   f_curr_4   f_curr_5   f_curr_6   f_curr_7   f_curr_8\n",
       "─ + ──────── + ──────── + ──────── + ──────── + ──────── + ──────── + ────────\n",
       "       36         36         36         36         36         36         36   \n",
       "──────────────────────────────────────────────────────────────────────────────\n",
       "                                                                              \n",
       "\n",
       " ⎤\n",
       "⎞⎥\n",
       "⎟⎥\n",
       "⎠⎥\n",
       "─⎥\n",
       " ⎦"
      ]
     },
     "execution_count": 28,
     "metadata": {},
     "output_type": "execute_result"
    }
   ],
   "source": [
    "f_next = [ f_curr[i] + 1/tau * ( f_eq_i - f_curr[i] ) for i, f_eq_i in enumerate(f_eq) ]\n",
    "f_next"
   ]
  },
  {
   "cell_type": "code",
   "execution_count": 29,
   "metadata": {},
   "outputs": [
    {
     "data": {
      "image/png": "[encoded data removed]",
      "text/latex": [
       "$$\\left ( \\left [ \\left ( x_{0}, \\quad \\frac{1}{\\tau}\\right ), \\quad \\left ( x_{1}, \\quad 3 u_{x}\\right ), \\quad \\left ( x_{2}, \\quad - x_{1}\\right ), \\quad \\left ( x_{3}, \\quad - u_{x}\\right ), \\quad \\left ( x_{4}, \\quad 3 u_{y}\\right ), \\quad \\left ( x_{5}, \\quad u_{y}^{2}\\right ), \\quad \\left ( x_{6}, \\quad - \\frac{3 x_{5}}{2}\\right ), \\quad \\left ( x_{7}, \\quad u_{x}^{2}\\right ), \\quad \\left ( x_{8}, \\quad - \\frac{3 x_{7}}{2} + 1\\right ), \\quad \\left ( x_{9}, \\quad x_{6} + x_{8}\\right ), \\quad \\left ( x_{10}, \\quad x_{4} + x_{9}\\right ), \\quad \\left ( x_{11}, \\quad \\frac{f_{curr 0}}{36} + \\frac{f_{curr 1}}{36} + \\frac{f_{curr 2}}{36} + \\frac{f_{curr 3}}{36} + \\frac{f_{curr 4}}{36} + \\frac{f_{curr 5}}{36} + \\frac{f_{curr 6}}{36} + \\frac{f_{curr 7}}{36} + \\frac{f_{curr 8}}{36}\\right ), \\quad \\left ( x_{12}, \\quad 3 x_{5} + x_{8}\\right ), \\quad \\left ( x_{13}, \\quad \\frac{f_{curr 0}}{9} + \\frac{f_{curr 1}}{9} + \\frac{f_{curr 2}}{9} + \\frac{f_{curr 3}}{9} + \\frac{f_{curr 4}}{9} + \\frac{f_{curr 5}}{9} + \\frac{f_{curr 6}}{9} + \\frac{f_{curr 7}}{9} + \\frac{f_{curr 8}}{9}\\right ), \\quad \\left ( x_{14}, \\quad x_{6} + 3 x_{7} + 1\\right ), \\quad \\left ( x_{15}, \\quad - u_{y}\\right ), \\quad \\left ( x_{16}, \\quad - x_{4}\\right ), \\quad \\left ( x_{17}, \\quad x_{16} + x_{9}\\right )\\right ], \\quad \\left [ f_{curr 0} + x_{0} \\left(- f_{curr 0} + x_{11} \\left(x_{10} + x_{2} + \\frac{9 \\left(u_{y} + x_{3}\\right)^{2}}{2}\\right)\\right), \\quad f_{curr 1} + x_{0} \\left(- f_{curr 1} + x_{13} \\left(x_{12} + x_{4}\\right)\\right), \\quad f_{curr 2} + x_{0} \\left(- f_{curr 2} + x_{11} \\left(x_{1} + x_{10} + \\frac{9 \\left(u_{x} + u_{y}\\right)^{2}}{2}\\right)\\right), \\quad f_{curr 3} + x_{0} \\left(- f_{curr 3} + x_{13} \\left(x_{14} + x_{2}\\right)\\right), \\quad f_{curr 4} + x_{0} \\left(- f_{curr 4} + x_{9} \\left(\\frac{4 f_{curr 0}}{9} + \\frac{4 f_{curr 1}}{9} + \\frac{4 f_{curr 2}}{9} + \\frac{4 f_{curr 3}}{9} + \\frac{4 f_{curr 4}}{9} + \\frac{4 f_{curr 5}}{9} + \\frac{4 f_{curr 6}}{9} + \\frac{4 f_{curr 7}}{9} + \\frac{4 f_{curr 8}}{9}\\right)\\right), \\quad f_{curr 5} + x_{0} \\left(- f_{curr 5} + x_{13} \\left(x_{1} + x_{14}\\right)\\right), \\quad f_{curr 6} + x_{0} \\left(- f_{curr 6} + x_{11} \\left(x_{17} + x_{2} + \\frac{9 \\left(x_{15} + x_{3}\\right)^{2}}{2}\\right)\\right), \\quad f_{curr 7} + x_{0} \\left(- f_{curr 7} + x_{13} \\left(x_{12} + x_{16}\\right)\\right), \\quad f_{curr 8} + x_{0} \\left(- f_{curr 8} + x_{11} \\left(x_{1} + x_{17} + \\frac{9 \\left(u_{x} + x_{15}\\right)^{2}}{2}\\right)\\right)\\right ]\\right )$$"
      ],
      "text/plain": [
       "⎛                                                                             \n",
       "⎜⎡⎛    1⎞                                                 ⎛       2⎞  ⎛    -3⋅\n",
       "⎜⎢⎜x₀, ─⎟, (x₁, 3⋅uₓ), (x₂, -x₁), (x₃, -uₓ), (x₄, 3⋅u_y), ⎝x₅, u_y ⎠, ⎜x₆, ───\n",
       "⎝⎣⎝    τ⎠                                                             ⎝      2\n",
       "\n",
       "                                                                              \n",
       "x₅ ⎞  ⎛      2⎞  ⎛      3⋅x₇    ⎞                                 ⎛     f_curr\n",
       "───⎟, ⎝x₇, uₓ ⎠, ⎜x₈, - ──── + 1⎟, (x₉, x₆ + x₈), (x₁₀, x₄ + x₉), ⎜x₁₁, ──────\n",
       "   ⎠             ⎝       2      ⎠                                 ⎝        36 \n",
       "\n",
       "                                                                              \n",
       "_0   f_curr_1   f_curr_2   f_curr_3   f_curr_4   f_curr_5   f_curr_6   f_curr_\n",
       "── + ──────── + ──────── + ──────── + ──────── + ──────── + ──────── + ───────\n",
       "        36         36         36         36         36         36         36  \n",
       "\n",
       "                                                                              \n",
       "7   f_curr_8⎞                    ⎛     f_curr_0   f_curr_1   f_curr_2   f_curr\n",
       "─ + ────────⎟, (x₁₂, 3⋅x₅ + x₈), ⎜x₁₃, ──────── + ──────── + ──────── + ──────\n",
       "       36   ⎠                    ⎝        9          9          9          9  \n",
       "\n",
       "                                                                              \n",
       "_3   f_curr_4   f_curr_5   f_curr_6   f_curr_7   f_curr_8⎞                    \n",
       "── + ──────── + ──────── + ──────── + ──────── + ────────⎟, (x₁₄, x₆ + 3⋅x₇ + \n",
       "        9          9          9          9          9    ⎠                    \n",
       "\n",
       "                                               ⎡              ⎛               \n",
       "                                            ⎤  ⎢              ⎜               \n",
       "1), (x₁₅, -u_y), (x₁₆, -x₄), (x₁₇, x₁₆ + x₉)⎥, ⎢f_curr_0 + x₀⋅⎜-f_curr_0 + x₁₁\n",
       "                                            ⎦  ⎣              ⎝               \n",
       "\n",
       " ⎛                       2⎞⎞                                                  \n",
       " ⎜           9⋅(u_y + x₃) ⎟⎟                                                  \n",
       "⋅⎜x₁₀ + x₂ + ─────────────⎟⎟, f_curr_1 + x₀⋅(-f_curr_1 + x₁₃⋅(x₁₂ + x₄)), f_cu\n",
       " ⎝                 2      ⎠⎠                                                  \n",
       "\n",
       "          ⎛                ⎛                       2⎞⎞                        \n",
       "          ⎜                ⎜           9⋅(uₓ + u_y) ⎟⎟                        \n",
       "rr_2 + x₀⋅⎜-f_curr_2 + x₁₁⋅⎜x₁ + x₁₀ + ─────────────⎟⎟, f_curr_3 + x₀⋅(-f_curr\n",
       "          ⎝                ⎝                 2      ⎠⎠                        \n",
       "\n",
       "                                                                              \n",
       "                                    ⎛               ⎛4⋅f_curr_0   4⋅f_curr_1  \n",
       "_3 + x₁₃⋅(x₁₄ + x₂)), f_curr_4 + x₀⋅⎜-f_curr_4 + x₉⋅⎜────────── + ────────── +\n",
       "                                    ⎝               ⎝    9            9       \n",
       "\n",
       "                                                                              \n",
       " 4⋅f_curr_2   4⋅f_curr_3   4⋅f_curr_4   4⋅f_curr_5   4⋅f_curr_6   4⋅f_curr_7  \n",
       " ────────── + ────────── + ────────── + ────────── + ────────── + ────────── +\n",
       "     9            9            9            9            9            9       \n",
       "\n",
       "                                                                         ⎛    \n",
       " 4⋅f_curr_8⎞⎞                                                            ⎜    \n",
       " ──────────⎟⎟, f_curr_5 + x₀⋅(-f_curr_5 + x₁₃⋅(x₁ + x₁₄)), f_curr_6 + x₀⋅⎜-f_c\n",
       "     9     ⎠⎠                                                            ⎝    \n",
       "\n",
       "            ⎛                       2⎞⎞                                       \n",
       "            ⎜           9⋅(x₁₅ + x₃) ⎟⎟                                       \n",
       "urr_6 + x₁₁⋅⎜x₁₇ + x₂ + ─────────────⎟⎟, f_curr_7 + x₀⋅(-f_curr_7 + x₁₃⋅(x₁₂ +\n",
       "            ⎝                 2      ⎠⎠                                       \n",
       "\n",
       "                      ⎛                ⎛                       2⎞⎞⎤⎞\n",
       "                      ⎜                ⎜           9⋅(uₓ + x₁₅) ⎟⎟⎥⎟\n",
       " x₁₆)), f_curr_8 + x₀⋅⎜-f_curr_8 + x₁₁⋅⎜x₁ + x₁₇ + ─────────────⎟⎟⎥⎟\n",
       "                      ⎝                ⎝                 2      ⎠⎠⎦⎠"
      ]
     },
     "execution_count": 29,
     "metadata": {},
     "output_type": "execute_result"
    }
   ],
   "source": [
    "cse(f_next)"
   ]
  },
  {
   "cell_type": "code",
   "execution_count": 30,
   "metadata": {},
   "outputs": [
    {
     "data": {
      "image/png": "[encoded data removed]",
      "text/latex": [
       "$$\\left ( \\left [ \\left ( x_{0}, \\quad f_{curr 0} + f_{curr 1} + f_{curr 2} + f_{curr 3} + f_{curr 4} + f_{curr 5} + f_{curr 6} + f_{curr 7} + f_{curr 8}\\right ), \\quad \\left ( x_{1}, \\quad 6 u_{y}\\right ), \\quad \\left ( x_{2}, \\quad 6 u_{x}\\right ), \\quad \\left ( x_{3}, \\quad u_{y}^{2}\\right ), \\quad \\left ( x_{4}, \\quad 3 x_{3}\\right ), \\quad \\left ( x_{5}, \\quad u_{x}^{2}\\right ), \\quad \\left ( x_{6}, \\quad 3 x_{5}\\right ), \\quad \\left ( x_{7}, \\quad x_{6} - 2\\right ), \\quad \\left ( x_{8}, \\quad x_{4} + x_{7}\\right ), \\quad \\left ( x_{9}, \\quad x_{2} + x_{8}\\right ), \\quad \\left ( x_{10}, \\quad \\frac{1}{\\tau}\\right ), \\quad \\left ( x_{11}, \\quad \\frac{x_{10}}{72}\\right ), \\quad \\left ( x_{12}, \\quad 6 x_{3}\\right ), \\quad \\left ( x_{13}, \\quad x_{1} - x_{6} + 2\\right ), \\quad \\left ( x_{14}, \\quad \\frac{x_{10}}{18}\\right ), \\quad \\left ( x_{15}, \\quad - x_{4}\\right ), \\quad \\left ( x_{16}, \\quad 9 \\left(u_{x} + u_{y}\\right)^{2}\\right ), \\quad \\left ( x_{17}, \\quad - x_{2}\\right ), \\quad \\left ( x_{18}, \\quad x_{15} + 6 x_{5} + 2\\right )\\right ], \\quad \\left [ f_{curr 0} - x_{11} \\left(72 f_{curr 0} + x_{0} \\left(- x_{1} + x_{9} - 9 \\left(- u_{x} + u_{y}\\right)^{2}\\right)\\right), \\quad f_{curr 1} - x_{14} \\left(18 f_{curr 1} - x_{0} \\left(x_{12} + x_{13}\\right)\\right), \\quad f_{curr 2} - x_{11} \\left(72 f_{curr 2} - x_{0} \\left(x_{13} + x_{15} + x_{16} + x_{2}\\right)\\right), \\quad f_{curr 3} - x_{14} \\left(18 f_{curr 3} - x_{0} \\left(x_{17} + x_{18}\\right)\\right), \\quad f_{curr 4} - \\frac{x_{10} \\left(9 f_{curr 4} + 2 x_{0} x_{8}\\right)}{9}, \\quad f_{curr 5} - x_{14} \\left(18 f_{curr 5} - x_{0} \\left(x_{18} + x_{2}\\right)\\right), \\quad f_{curr 6} - x_{11} \\left(72 f_{curr 6} + x_{0} \\left(x_{1} - x_{16} + x_{9}\\right)\\right), \\quad f_{curr 7} - x_{14} \\left(18 f_{curr 7} + x_{0} \\left(x_{1} - x_{12} + x_{7}\\right)\\right), \\quad f_{curr 8} - x_{11} \\left(72 f_{curr 8} + x_{0} \\left(x_{1} + x_{17} + x_{8} - 9 \\left(u_{x} - u_{y}\\right)^{2}\\right)\\right)\\right ]\\right )$$"
      ],
      "text/plain": [
       "⎛⎡                                                                            \n",
       "⎜⎢(x₀, f_curr_0 + f_curr_1 + f_curr_2 + f_curr_3 + f_curr_4 + f_curr_5 + f_cur\n",
       "⎝⎣                                                                            \n",
       "\n",
       "                                                     ⎛       2⎞              ⎛\n",
       "r_6 + f_curr_7 + f_curr_8), (x₁, 6⋅u_y), (x₂, 6⋅uₓ), ⎝x₃, u_y ⎠, (x₄, 3⋅x₃), ⎝\n",
       "                                                                              \n",
       "\n",
       "      2⎞                                                          ⎛     1⎞  ⎛ \n",
       "x₅, uₓ ⎠, (x₆, 3⋅x₅), (x₇, x₆ - 2), (x₈, x₄ + x₇), (x₉, x₂ + x₈), ⎜x₁₀, ─⎟, ⎜x\n",
       "                                                                  ⎝     τ⎠  ⎝ \n",
       "\n",
       "    x₁₀⎞                                   ⎛     x₁₀⎞              ⎛          \n",
       "₁₁, ───⎟, (x₁₂, 6⋅x₃), (x₁₃, x₁ - x₆ + 2), ⎜x₁₄, ───⎟, (x₁₅, -x₄), ⎝x₁₆, 9⋅(uₓ\n",
       "     72⎠                                   ⎝      18⎠                         \n",
       "\n",
       "       2⎞                                   ⎤  ⎡               ⎛              \n",
       " + u_y) ⎠, (x₁₇, -x₂), (x₁₈, x₁₅ + 6⋅x₅ + 2)⎥, ⎢f_curr_0 - x₁₁⋅⎝72⋅f_curr_0 + \n",
       "                                            ⎦  ⎣                              \n",
       "\n",
       "   ⎛                        2⎞⎞                                               \n",
       "x₀⋅⎝-x₁ + x₉ - 9⋅(-uₓ + u_y) ⎠⎠, f_curr_1 - x₁₄⋅(18⋅f_curr_1 - x₀⋅(x₁₂ + x₁₃))\n",
       "                                                                              \n",
       "\n",
       "                                                                              \n",
       ", f_curr_2 - x₁₁⋅(72⋅f_curr_2 - x₀⋅(x₁₃ + x₁₅ + x₁₆ + x₂)), f_curr_3 - x₁₄⋅(18\n",
       "                                                                              \n",
       "\n",
       "                                        x₁₀⋅(9⋅f_curr_4 + 2⋅x₀⋅x₈)            \n",
       "⋅f_curr_3 - x₀⋅(x₁₇ + x₁₈)), f_curr_4 - ──────────────────────────, f_curr_5 -\n",
       "                                                    9                         \n",
       "\n",
       "                                                                              \n",
       " x₁₄⋅(18⋅f_curr_5 - x₀⋅(x₁₈ + x₂)), f_curr_6 - x₁₁⋅(72⋅f_curr_6 + x₀⋅(x₁ - x₁₆\n",
       "                                                                              \n",
       "\n",
       "                                                                           ⎛  \n",
       " + x₉)), f_curr_7 - x₁₄⋅(18⋅f_curr_7 + x₀⋅(x₁ - x₁₂ + x₇)), f_curr_8 - x₁₁⋅⎝72\n",
       "                                                                              \n",
       "\n",
       "               ⎛                            2⎞⎞⎤⎞\n",
       "⋅f_curr_8 + x₀⋅⎝x₁ + x₁₇ + x₈ - 9⋅(uₓ - u_y) ⎠⎠⎥⎟\n",
       "                                               ⎦⎠"
      ]
     },
     "execution_count": 30,
     "metadata": {},
     "output_type": "execute_result"
    }
   ],
   "source": [
    "eqs = cse(f_next, optimizations='basic')\n",
    "eqs"
   ]
  },
  {
   "cell_type": "code",
   "execution_count": 31,
   "metadata": {},
   "outputs": [
    {
     "name": "stdout",
     "output_type": "stream",
     "text": [
      "const float x0 = f_curr_0 + f_curr_1 + f_curr_2 + f_curr_3 + f_curr_4 + f_curr_5 + f_curr_6 + f_curr_7 + f_curr_8;\n",
      "const float x1 = 6*u_y;\n",
      "const float x2 = 6*u_x;\n",
      "const float x3 = pow(u_y, 2);\n",
      "const float x4 = 3*x3;\n",
      "const float x5 = pow(u_x, 2);\n",
      "const float x6 = 3*x5;\n",
      "const float x7 = x6 - 2;\n",
      "const float x8 = x4 + x7;\n",
      "const float x9 = x2 + x8;\n",
      "const float x10 = 1.0/tau;\n",
      "const float x11 = (1.0/72.0)*x10;\n",
      "const float x12 = 6*x3;\n",
      "const float x13 = x1 - x6 + 2;\n",
      "const float x14 = (1.0/18.0)*x10;\n",
      "const float x15 = -x4;\n",
      "const float x16 = 9*pow(u_x + u_y, 2);\n",
      "const float x17 = -x2;\n",
      "const float x18 = x15 + 6*x5 + 2;\n"
     ]
    }
   ],
   "source": [
    "for eq in eqs[0]:\n",
    "    print(\"const float %s = %s;\" % (eq[0], ccode(eq[1])))"
   ]
  },
  {
   "cell_type": "code",
   "execution_count": 32,
   "metadata": {},
   "outputs": [
    {
     "name": "stdout",
     "output_type": "stream",
     "text": [
      "f_next_0 = f_curr_0 - x11*(72*f_curr_0 + x0*(-x1 + x9 - 9*pow(-u_x + u_y, 2)));\n",
      "f_next_1 = f_curr_1 - x14*(18*f_curr_1 - x0*(x12 + x13));\n",
      "f_next_2 = f_curr_2 - x11*(72*f_curr_2 - x0*(x13 + x15 + x16 + x2));\n",
      "f_next_3 = f_curr_3 - x14*(18*f_curr_3 - x0*(x17 + x18));\n",
      "f_next_4 = f_curr_4 - 1.0/9.0*x10*(9*f_curr_4 + 2*x0*x8);\n",
      "f_next_5 = f_curr_5 - x14*(18*f_curr_5 - x0*(x18 + x2));\n",
      "f_next_6 = f_curr_6 - x11*(72*f_curr_6 + x0*(x1 - x16 + x9));\n",
      "f_next_7 = f_curr_7 - x14*(18*f_curr_7 + x0*(x1 - x12 + x7));\n",
      "f_next_8 = f_curr_8 - x11*(72*f_curr_8 + x0*(x1 + x17 + x8 - 9*pow(u_x - u_y, 2)));\n"
     ]
    }
   ],
   "source": [
    "for i, eq in enumerate(eqs[1]):\n",
    "    print(\"f_next_%d = %s;\" % (i, ccode(eq)))"
   ]
  },
  {
   "cell_type": "code",
   "execution_count": 49,
   "metadata": {},
   "outputs": [],
   "source": [
    "ueqs = cse([\n",
    "    sum([ (c_i*f_curr[i])[0] for i, c_i in enumerate(c) ]) / rho,\n",
    "    sum([ (c_i*f_curr[i])[1] for i, c_i in enumerate(c) ]) / rho\n",
    "], optimizations='basic')"
   ]
  },
  {
   "cell_type": "code",
   "execution_count": 53,
   "metadata": {},
   "outputs": [
    {
     "name": "stdout",
     "output_type": "stream",
     "text": [
      "const float ux0 = f_curr_3 + f_curr_6;\n",
      "const float ux1 = f_curr_1 + f_curr_2;\n",
      "const float ux2 = 1.0/(f_curr_0 + f_curr_4 + f_curr_5 + f_curr_7 + f_curr_8 + x0 + x1);\n",
      "const float ux3 = f_curr_0 - f_curr_8;\n"
     ]
    }
   ],
   "source": [
    "for eq in ueqs[0]:\n",
    "    print(\"const float u%s = %s;\" % (eq[0], ccode(eq[1])))"
   ]
  },
  {
   "cell_type": "code",
   "execution_count": 54,
   "metadata": {},
   "outputs": [
    {
     "name": "stdout",
     "output_type": "stream",
     "text": [
      "u_0 = -x2*(-f_curr_2 - f_curr_5 + x0 + x3);\n",
      "u_1 = x2*(-f_curr_6 - f_curr_7 + x1 + x3);\n"
     ]
    }
   ],
   "source": [
    "for i, eq in enumerate(ueqs[1]):\n",
    "    print(\"u_%d = %s;\" % (i, ccode(eq)))"
   ]
  },
  {
   "cell_type": "code",
   "execution_count": null,
   "metadata": {},
   "outputs": [],
   "source": []
  }
 ],
 "metadata": {
  "kernelspec": {
   "display_name": "Python 3",
   "language": "python",
   "name": "python3"
  },
  "language_info": {
   "codemirror_mode": {
    "name": "ipython",
    "version": 3
   },
   "file_extension": ".py",
   "mimetype": "text/x-python",
   "name": "python",
   "nbconvert_exporter": "python",
   "pygments_lexer": "ipython3",
   "version": "3.7.3"
  }
 },
 "nbformat": 4,
 "nbformat_minor": 2
}
