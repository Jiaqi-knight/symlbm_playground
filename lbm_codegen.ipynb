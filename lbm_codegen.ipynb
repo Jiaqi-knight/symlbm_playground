{
 "cells": [
  {
   "cell_type": "code",
   "execution_count": 1,
   "metadata": {},
   "outputs": [],
   "source": [
    "from sympy import *\n",
    "init_printing()"
   ]
  },
  {
   "cell_type": "markdown",
   "metadata": {},
   "source": [
    "## Characteristic constants"
   ]
  },
  {
   "cell_type": "code",
   "execution_count": 2,
   "metadata": {},
   "outputs": [],
   "source": [
    "c = [Matrix(x) for x in [(-1, 1), ( 0, 1), ( 1, 1), (-1, 0), ( 0, 0), ( 1, 0), (-1,-1), ( 0, -1), ( 1, -1)]]"
   ]
  },
  {
   "cell_type": "code",
   "execution_count": 3,
   "metadata": {},
   "outputs": [
    {
     "data": {
      "text/latex": [
       "$$\\left [ \\left[\\begin{matrix}-1\\\\1\\end{matrix}\\right], \\quad \\left[\\begin{matrix}0\\\\1\\end{matrix}\\right], \\quad \\left[\\begin{matrix}1\\\\1\\end{matrix}\\right], \\quad \\left[\\begin{matrix}-1\\\\0\\end{matrix}\\right], \\quad \\left[\\begin{matrix}0\\\\0\\end{matrix}\\right], \\quad \\left[\\begin{matrix}1\\\\0\\end{matrix}\\right], \\quad \\left[\\begin{matrix}-1\\\\-1\\end{matrix}\\right], \\quad \\left[\\begin{matrix}0\\\\-1\\end{matrix}\\right], \\quad \\left[\\begin{matrix}1\\\\-1\\end{matrix}\\right]\\right ]$$"
      ],
      "text/plain": [
       "⎡⎡-1⎤  ⎡0⎤  ⎡1⎤  ⎡-1⎤  ⎡0⎤  ⎡1⎤  ⎡-1⎤  ⎡0 ⎤  ⎡1 ⎤⎤\n",
       "⎢⎢  ⎥, ⎢ ⎥, ⎢ ⎥, ⎢  ⎥, ⎢ ⎥, ⎢ ⎥, ⎢  ⎥, ⎢  ⎥, ⎢  ⎥⎥\n",
       "⎣⎣1 ⎦  ⎣1⎦  ⎣1⎦  ⎣0 ⎦  ⎣0⎦  ⎣0⎦  ⎣-1⎦  ⎣-1⎦  ⎣-1⎦⎦"
      ]
     },
     "execution_count": 3,
     "metadata": {},
     "output_type": "execute_result"
    }
   ],
   "source": [
    "c"
   ]
  },
  {
   "cell_type": "code",
   "execution_count": 4,
   "metadata": {},
   "outputs": [],
   "source": [
    "w = [Rational(*x) for x in [(1,36), (1,9), (1,36), (1,9), (4,9), (1,9), (1,36), (1,9), (1,36)]]"
   ]
  },
  {
   "cell_type": "code",
   "execution_count": 5,
   "metadata": {},
   "outputs": [
    {
     "data": {
      "image/png": "[encoded data removed]",
      "text/latex": [
       "$$\\left [ \\frac{1}{36}, \\quad \\frac{1}{9}, \\quad \\frac{1}{36}, \\quad \\frac{1}{9}, \\quad \\frac{4}{9}, \\quad \\frac{1}{9}, \\quad \\frac{1}{36}, \\quad \\frac{1}{9}, \\quad \\frac{1}{36}\\right ]$$"
      ],
      "text/plain": [
       "[1/36, 1/9, 1/36, 1/9, 4/9, 1/9, 1/36, 1/9, 1/36]"
      ]
     },
     "execution_count": 5,
     "metadata": {},
     "output_type": "execute_result"
    }
   ],
   "source": [
    "w"
   ]
  },
  {
   "cell_type": "code",
   "execution_count": 6,
   "metadata": {},
   "outputs": [
    {
     "data": {
      "image/png": "[encoded data removed]",
      "text/latex": [
       "$$1$$"
      ],
      "text/plain": [
       "1"
      ]
     },
     "execution_count": 6,
     "metadata": {},
     "output_type": "execute_result"
    }
   ],
   "source": [
    "sum(w)"
   ]
  },
  {
   "cell_type": "code",
   "execution_count": 7,
   "metadata": {},
   "outputs": [
    {
     "data": {
      "image/png": "[encoded data removed]",
      "text/latex": [
       "$$\\frac{\\sqrt{3}}{3}$$"
      ],
      "text/plain": [
       "√3\n",
       "──\n",
       "3 "
      ]
     },
     "execution_count": 7,
     "metadata": {},
     "output_type": "execute_result"
    }
   ],
   "source": [
    "c_s = sqrt(Rational(1,3))\n",
    "c_s"
   ]
  },
  {
   "cell_type": "markdown",
   "metadata": {},
   "source": [
    "## Moments"
   ]
  },
  {
   "cell_type": "code",
   "execution_count": 8,
   "metadata": {},
   "outputs": [],
   "source": [
    "u_x, u_y, rho, tau = symbols('u_x u_y rho tau')"
   ]
  },
  {
   "cell_type": "code",
   "execution_count": 9,
   "metadata": {},
   "outputs": [
    {
     "data": {
      "text/plain": [
       "array([f_next_0, f_next_1, f_next_2, f_next_3, f_next_4, f_next_5,\n",
       "       f_next_6, f_next_7, f_next_8], dtype=object)"
      ]
     },
     "execution_count": 9,
     "metadata": {},
     "output_type": "execute_result"
    }
   ],
   "source": [
    "f_next = symarray('f_next', 9)\n",
    "f_next"
   ]
  },
  {
   "cell_type": "code",
   "execution_count": 10,
   "metadata": {},
   "outputs": [
    {
     "data": {
      "text/plain": [
       "array([f_curr_0, f_curr_1, f_curr_2, f_curr_3, f_curr_4, f_curr_5,\n",
       "       f_curr_6, f_curr_7, f_curr_8], dtype=object)"
      ]
     },
     "execution_count": 10,
     "metadata": {},
     "output_type": "execute_result"
    }
   ],
   "source": [
    "f_curr = symarray('f_curr', 9)\n",
    "f_curr"
   ]
  },
  {
   "cell_type": "code",
   "execution_count": 11,
   "metadata": {},
   "outputs": [
    {
     "data": {
      "text/latex": [
       "$$\\left[\\begin{matrix}u_{x}\\\\u_{y}\\end{matrix}\\right]$$"
      ],
      "text/plain": [
       "⎡uₓ ⎤\n",
       "⎢   ⎥\n",
       "⎣u_y⎦"
      ]
     },
     "execution_count": 11,
     "metadata": {},
     "output_type": "execute_result"
    }
   ],
   "source": [
    "u = Matrix([u_x, u_y])\n",
    "u"
   ]
  },
  {
   "cell_type": "code",
   "execution_count": 12,
   "metadata": {},
   "outputs": [],
   "source": [
    "from sympy.codegen.ast import Assignment"
   ]
  },
  {
   "cell_type": "code",
   "execution_count": 13,
   "metadata": {},
   "outputs": [
    {
     "data": {
      "image/png": "[encoded data removed]",
      "text/latex": [
       "$$\\left ( \\left [ \\left ( m_{0}, \\quad f_{curr 3} + f_{curr 6}\\right ), \\quad \\left ( m_{1}, \\quad f_{curr 1} + f_{curr 2}\\right ), \\quad \\left ( m_{2}, \\quad f_{curr 0} + f_{curr 4} + f_{curr 5} + f_{curr 7} + f_{curr 8} + m_{0} + m_{1}\\right ), \\quad \\left ( m_{3}, \\quad \\frac{1}{m_{2}}\\right ), \\quad \\left ( m_{4}, \\quad f_{curr 0} - f_{curr 8}\\right )\\right ], \\quad \\left [ Assignment(rho, m2), \\quad Assignment(u_x, -m3*(-f_curr_2 - f_curr_5 + m0 + m4)), \\quad Assignment(u_y, m3*(-f_curr_6 - f_curr_7 + m1 + m4))\\right ]\\right )$$"
      ],
      "text/plain": [
       "⎛⎡                                                                            \n",
       "⎜⎢(m₀, f_curr_3 + f_curr_6), (m₁, f_curr_1 + f_curr_2), (m₂, f_curr_0 + f_curr\n",
       "⎝⎣                                                                            \n",
       "\n",
       "                                                ⎛    1 ⎞                      \n",
       "_4 + f_curr_5 + f_curr_7 + f_curr_8 + m₀ + m₁), ⎜m₃, ──⎟, (m₄, f_curr_0 - f_cu\n",
       "                                                ⎝    m₂⎠                      \n",
       "\n",
       "     ⎤                                                                        \n",
       "rr_8)⎥, [ρ := m₂, uₓ := -m₃⋅(-f_curr_2 - f_curr_5 + m₀ + m₄), u_y := m₃⋅(-f_cu\n",
       "     ⎦                                                                        \n",
       "\n",
       "                           ⎞\n",
       "rr_6 - f_curr_7 + m₁ + m₄)]⎟\n",
       "                           ⎠"
      ]
     },
     "execution_count": 13,
     "metadata": {},
     "output_type": "execute_result"
    }
   ],
   "source": [
    "moments = cse([\n",
    "    Assignment(rho, sum(f_curr)),\n",
    "    Assignment(u_x, sum([ (c_i*f_curr[i])[0] for i, c_i in enumerate(c) ]) / sum(f_curr)),\n",
    "    Assignment(u_y, sum([ (c_i*f_curr[i])[1] for i, c_i in enumerate(c) ]) / sum(f_curr))\n",
    "], optimizations='basic', symbols=numbered_symbols(prefix='m'))\n",
    "moments"
   ]
  },
  {
   "cell_type": "code",
   "execution_count": 14,
   "metadata": {},
   "outputs": [
    {
     "name": "stdout",
     "output_type": "stream",
     "text": [
      "const float m0 = f_curr_3 + f_curr_6;\n",
      "const float m1 = f_curr_1 + f_curr_2;\n",
      "const float m2 = f_curr_0 + f_curr_4 + f_curr_5 + f_curr_7 + f_curr_8 + m0 + m1;\n",
      "const float m3 = 1.0/m2;\n",
      "const float m4 = f_curr_0 - f_curr_8;\n"
     ]
    }
   ],
   "source": [
    "for expr in moments[0]:\n",
    "    print(\"const float %s = %s;\" % (expr[0], ccode(expr[1])))"
   ]
  },
  {
   "cell_type": "code",
   "execution_count": 15,
   "metadata": {},
   "outputs": [
    {
     "name": "stdout",
     "output_type": "stream",
     "text": [
      "rho = m2;\n",
      "u_x = -m3*(-f_curr_2 - f_curr_5 + m0 + m4);\n",
      "u_y = m3*(-f_curr_6 - f_curr_7 + m1 + m4);\n"
     ]
    }
   ],
   "source": [
    "for i, expr in enumerate(moments[1]):\n",
    "    print(ccode(expr))"
   ]
  },
  {
   "cell_type": "markdown",
   "metadata": {},
   "source": [
    "## Equilibrium"
   ]
  },
  {
   "cell_type": "code",
   "execution_count": 16,
   "metadata": {},
   "outputs": [
    {
     "data": {
      "image/png": "[encoded data removed]",
      "text/latex": [
       "$$\\left [ \\frac{\\rho \\left(- \\frac{3 u_{x}^{2}}{2} - 3 u_{x} - \\frac{3 u_{y}^{2}}{2} + 3 u_{y} + \\frac{9 \\left(- u_{x} + u_{y}\\right)^{2}}{2} + 1\\right)}{36}, \\quad \\frac{\\rho \\left(- \\frac{3 u_{x}^{2}}{2} + 3 u_{y}^{2} + 3 u_{y} + 1\\right)}{9}, \\quad \\frac{\\rho \\left(- \\frac{3 u_{x}^{2}}{2} + 3 u_{x} - \\frac{3 u_{y}^{2}}{2} + 3 u_{y} + \\frac{9 \\left(u_{x} + u_{y}\\right)^{2}}{2} + 1\\right)}{36}, \\quad \\frac{\\rho \\left(3 u_{x}^{2} - 3 u_{x} - \\frac{3 u_{y}^{2}}{2} + 1\\right)}{9}, \\quad \\frac{4 \\rho \\left(- \\frac{3 u_{x}^{2}}{2} - \\frac{3 u_{y}^{2}}{2} + 1\\right)}{9}, \\quad \\frac{\\rho \\left(3 u_{x}^{2} + 3 u_{x} - \\frac{3 u_{y}^{2}}{2} + 1\\right)}{9}, \\quad \\frac{\\rho \\left(- \\frac{3 u_{x}^{2}}{2} - 3 u_{x} - \\frac{3 u_{y}^{2}}{2} - 3 u_{y} + \\frac{9 \\left(- u_{x} - u_{y}\\right)^{2}}{2} + 1\\right)}{36}, \\quad \\frac{\\rho \\left(- \\frac{3 u_{x}^{2}}{2} + 3 u_{y}^{2} - 3 u_{y} + 1\\right)}{9}, \\quad \\frac{\\rho \\left(- \\frac{3 u_{x}^{2}}{2} + 3 u_{x} - \\frac{3 u_{y}^{2}}{2} - 3 u_{y} + \\frac{9 \\left(u_{x} - u_{y}\\right)^{2}}{2} + 1\\right)}{36}\\right ]$$"
      ],
      "text/plain": [
       "⎡  ⎛      2               2                        2    ⎞    ⎛      2         \n",
       "⎢  ⎜  3⋅uₓ           3⋅u_y            9⋅(-uₓ + u_y)     ⎟    ⎜  3⋅uₓ         2\n",
       "⎢ρ⋅⎜- ───── - 3⋅uₓ - ────── + 3⋅u_y + ────────────── + 1⎟  ρ⋅⎜- ───── + 3⋅u_y \n",
       "⎢  ⎝    2              2                    2           ⎠    ⎝    2           \n",
       "⎢────────────────────────────────────────────────────────, ───────────────────\n",
       "⎣                           36                                            9   \n",
       "\n",
       "            ⎞    ⎛      2               2                       2    ⎞    ⎛   \n",
       "            ⎟    ⎜  3⋅uₓ           3⋅u_y            9⋅(uₓ + u_y)     ⎟    ⎜   \n",
       " + 3⋅u_y + 1⎟  ρ⋅⎜- ───── + 3⋅uₓ - ────── + 3⋅u_y + ───────────── + 1⎟  ρ⋅⎜3⋅u\n",
       "            ⎠    ⎝    2              2                    2          ⎠    ⎝   \n",
       "─────────────, ───────────────────────────────────────────────────────, ──────\n",
       "                                          36                                  \n",
       "\n",
       "                 2    ⎞      ⎛      2        2    ⎞    ⎛                    2 \n",
       " 2          3⋅u_y     ⎟      ⎜  3⋅uₓ    3⋅u_y     ⎟    ⎜    2          3⋅u_y  \n",
       "ₓ  - 3⋅uₓ - ────── + 1⎟  4⋅ρ⋅⎜- ───── - ────── + 1⎟  ρ⋅⎜3⋅uₓ  + 3⋅uₓ - ────── \n",
       "              2       ⎠      ⎝    2       2       ⎠    ⎝                 2    \n",
       "───────────────────────, ──────────────────────────, ─────────────────────────\n",
       "        9                            9                             9          \n",
       "\n",
       "   ⎞    ⎛      2               2                        2    ⎞    ⎛      2    \n",
       "   ⎟    ⎜  3⋅uₓ           3⋅u_y            9⋅(-uₓ - u_y)     ⎟    ⎜  3⋅uₓ     \n",
       "+ 1⎟  ρ⋅⎜- ───── - 3⋅uₓ - ────── - 3⋅u_y + ────────────── + 1⎟  ρ⋅⎜- ───── + 3\n",
       "   ⎠    ⎝    2              2                    2           ⎠    ⎝    2      \n",
       "────, ────────────────────────────────────────────────────────, ──────────────\n",
       "                                 36                                           \n",
       "\n",
       "                 ⎞    ⎛      2               2                       2    ⎞⎤\n",
       "    2            ⎟    ⎜  3⋅uₓ           3⋅u_y            9⋅(uₓ - u_y)     ⎟⎥\n",
       "⋅u_y  - 3⋅u_y + 1⎟  ρ⋅⎜- ───── + 3⋅uₓ - ────── - 3⋅u_y + ───────────── + 1⎟⎥\n",
       "                 ⎠    ⎝    2              2                    2          ⎠⎥\n",
       "──────────────────, ───────────────────────────────────────────────────────⎥\n",
       " 9                                             36                          ⎦"
      ]
     },
     "execution_count": 16,
     "metadata": {},
     "output_type": "execute_result"
    }
   ],
   "source": [
    "f_eq = []\n",
    "\n",
    "for i, c_i in enumerate(c):\n",
    "    f_eq_i = w[i] * rho * (  1\n",
    "                           + c_i.dot(u)    /    c_s**2\n",
    "                           + c_i.dot(u)**2 / (2*c_s**4)\n",
    "                           - u.dot(u)      / (2*c_s**2) )\n",
    "    f_eq.append(f_eq_i)\n",
    "\n",
    "f_eq"
   ]
  },
  {
   "cell_type": "markdown",
   "metadata": {},
   "source": [
    "## Collision"
   ]
  },
  {
   "cell_type": "code",
   "execution_count": 17,
   "metadata": {},
   "outputs": [
    {
     "data": {
      "image/png": "[encoded data removed]",
      "text/latex": [
       "$$\\left [ Assignment(f_next_0, f_curr_0 + (-f_curr_0 + rho*(-3*u_x**2/2 - 3*u_x - 3*u_y**2/2 + 3*u_y + 9*(-u_x + u_y)**2/2 + 1)/36)/tau), \\quad Assignment(f_next_1, f_curr_1 + (-f_curr_1 + rho*(-3*u_x**2/2 + 3*u_y**2 + 3*u_y + 1)/9)/tau), \\quad Assignment(f_next_2, f_curr_2 + (-f_curr_2 + rho*(-3*u_x**2/2 + 3*u_x - 3*u_y**2/2 + 3*u_y + 9*(u_x + u_y)**2/2 + 1)/36)/tau), \\quad Assignment(f_next_3, f_curr_3 + (-f_curr_3 + rho*(3*u_x**2 - 3*u_x - 3*u_y**2/2 + 1)/9)/tau), \\quad Assignment(f_next_4, f_curr_4 + (-f_curr_4 + 4*rho*(-3*u_x**2/2 - 3*u_y**2/2 + 1)/9)/tau), \\quad Assignment(f_next_5, f_curr_5 + (-f_curr_5 + rho*(3*u_x**2 + 3*u_x - 3*u_y**2/2 + 1)/9)/tau), \\quad Assignment(f_next_6, f_curr_6 + (-f_curr_6 + rho*(-3*u_x**2/2 - 3*u_x - 3*u_y**2/2 - 3*u_y + 9*(-u_x - u_y)**2/2 + 1)/36)/tau), \\quad Assignment(f_next_7, f_curr_7 + (-f_curr_7 + rho*(-3*u_x**2/2 + 3*u_y**2 - 3*u_y + 1)/9)/tau), \\quad Assignment(f_next_8, f_curr_8 + (-f_curr_8 + rho*(-3*u_x**2/2 + 3*u_x - 3*u_y**2/2 - 3*u_y + 9*(u_x - u_y)**2/2 + 1)/36)/tau)\\right ]$$"
      ],
      "text/plain": [
       "⎡                                    ⎛      2               2                 \n",
       "⎢                                    ⎜  3⋅uₓ           3⋅u_y            9⋅(-uₓ\n",
       "⎢                                  ρ⋅⎜- ───── - 3⋅uₓ - ────── + 3⋅u_y + ──────\n",
       "⎢                                    ⎝    2              2                    \n",
       "⎢                      -f_curr_0 + ───────────────────────────────────────────\n",
       "⎢                                                             36              \n",
       "⎢fₙₑₓₜ ₀ := f_curr_0 + ───────────────────────────────────────────────────────\n",
       "⎣                                                       τ                     \n",
       "\n",
       "       2    ⎞                                      ⎛      2                   \n",
       " + u_y)     ⎟                                      ⎜  3⋅uₓ         2          \n",
       "──────── + 1⎟                                    ρ⋅⎜- ───── + 3⋅u_y  + 3⋅u_y +\n",
       "2           ⎠                                      ⎝    2                     \n",
       "─────────────                        -f_curr_1 + ─────────────────────────────\n",
       "                                                                9             \n",
       "─────────────, fₙₑₓₜ ₁ := f_curr_1 + ─────────────────────────────────────────\n",
       "                                                          τ                   \n",
       "\n",
       "  ⎞                                      ⎛      2               2             \n",
       "  ⎟                                      ⎜  3⋅uₓ           3⋅u_y            9⋅\n",
       " 1⎟                                    ρ⋅⎜- ───── + 3⋅uₓ - ────── + 3⋅u_y + ──\n",
       "  ⎠                                      ⎝    2              2                \n",
       "───                        -f_curr_2 + ───────────────────────────────────────\n",
       "                                                                  36          \n",
       "───, fₙₑₓₜ ₂ := f_curr_2 + ───────────────────────────────────────────────────\n",
       "                                                            τ                 \n",
       "\n",
       "          2    ⎞                                      ⎛                    2  \n",
       "(uₓ + u_y)     ⎟                                      ⎜    2          3⋅u_y   \n",
       "─────────── + 1⎟                                    ρ⋅⎜3⋅uₓ  - 3⋅uₓ - ────── +\n",
       "    2          ⎠                                      ⎝                 2     \n",
       "────────────────                        -f_curr_3 + ──────────────────────────\n",
       "                                                                  9           \n",
       "────────────────, fₙₑₓₜ ₃ := f_curr_3 + ──────────────────────────────────────\n",
       "                                                            τ                 \n",
       "\n",
       "  ⎞                                        ⎛      2        2    ⎞             \n",
       "  ⎟                                        ⎜  3⋅uₓ    3⋅u_y     ⎟             \n",
       " 1⎟                                    4⋅ρ⋅⎜- ───── - ────── + 1⎟             \n",
       "  ⎠                                        ⎝    2       2       ⎠             \n",
       "───                        -f_curr_4 + ──────────────────────────             \n",
       "                                                   9                          \n",
       "───, fₙₑₓₜ ₄ := f_curr_4 + ──────────────────────────────────────, fₙₑₓₜ ₅ := \n",
       "                                             τ                                \n",
       "\n",
       "                         ⎛                    2    ⎞                          \n",
       "                         ⎜    2          3⋅u_y     ⎟                          \n",
       "                       ρ⋅⎜3⋅uₓ  + 3⋅uₓ - ────── + 1⎟                          \n",
       "                         ⎝                 2       ⎠                          \n",
       "           -f_curr_5 + ─────────────────────────────                        -f\n",
       "                                     9                                        \n",
       "f_curr_5 + ─────────────────────────────────────────, fₙₑₓₜ ₆ := f_curr_6 + ──\n",
       "                               τ                                              \n",
       "\n",
       "            ⎛      2               2                        2    ⎞            \n",
       "            ⎜  3⋅uₓ           3⋅u_y            9⋅(-uₓ - u_y)     ⎟            \n",
       "          ρ⋅⎜- ───── - 3⋅uₓ - ────── - 3⋅u_y + ────────────── + 1⎟            \n",
       "            ⎝    2              2                    2           ⎠            \n",
       "_curr_6 + ────────────────────────────────────────────────────────            \n",
       "                                     36                                       \n",
       "──────────────────────────────────────────────────────────────────, fₙₑₓₜ ₇ :=\n",
       "                               τ                                              \n",
       "\n",
       "                          ⎛      2                     ⎞                      \n",
       "                          ⎜  3⋅uₓ         2            ⎟                      \n",
       "                        ρ⋅⎜- ───── + 3⋅u_y  - 3⋅u_y + 1⎟                      \n",
       "                          ⎝    2                       ⎠                      \n",
       "            -f_curr_7 + ────────────────────────────────                      \n",
       "                                       9                                      \n",
       " f_curr_7 + ────────────────────────────────────────────, fₙₑₓₜ ₈ := f_curr_8 \n",
       "                                 τ                                            \n",
       "\n",
       "                ⎛      2               2                       2    ⎞⎤\n",
       "                ⎜  3⋅uₓ           3⋅u_y            9⋅(uₓ - u_y)     ⎟⎥\n",
       "              ρ⋅⎜- ───── + 3⋅uₓ - ────── - 3⋅u_y + ───────────── + 1⎟⎥\n",
       "                ⎝    2              2                    2          ⎠⎥\n",
       "  -f_curr_8 + ───────────────────────────────────────────────────────⎥\n",
       "                                         36                          ⎥\n",
       "+ ───────────────────────────────────────────────────────────────────⎥\n",
       "                                   τ                                 ⎦"
      ]
     },
     "execution_count": 17,
     "metadata": {},
     "output_type": "execute_result"
    }
   ],
   "source": [
    "collide = [ Assignment(f_next[i], f_curr[i] + 1/tau * ( f_eq_i - f_curr[i] )) for i, f_eq_i in enumerate(f_eq) ]\n",
    "collide"
   ]
  },
  {
   "cell_type": "code",
   "execution_count": 18,
   "metadata": {},
   "outputs": [
    {
     "data": {
      "image/png": "[encoded data removed]",
      "text/latex": [
       "$$\\left ( \\left [ \\left ( x_{0}, \\quad 6 u_{y}\\right ), \\quad \\left ( x_{1}, \\quad 6 u_{x}\\right ), \\quad \\left ( x_{2}, \\quad u_{y}^{2}\\right ), \\quad \\left ( x_{3}, \\quad 3 x_{2}\\right ), \\quad \\left ( x_{4}, \\quad u_{x}^{2}\\right ), \\quad \\left ( x_{5}, \\quad 3 x_{4}\\right ), \\quad \\left ( x_{6}, \\quad x_{5} - 2\\right ), \\quad \\left ( x_{7}, \\quad x_{3} + x_{6}\\right ), \\quad \\left ( x_{8}, \\quad x_{1} + x_{7}\\right ), \\quad \\left ( x_{9}, \\quad \\frac{1}{\\tau}\\right ), \\quad \\left ( x_{10}, \\quad \\frac{x_{9}}{72}\\right ), \\quad \\left ( x_{11}, \\quad 6 x_{2}\\right ), \\quad \\left ( x_{12}, \\quad x_{0} - x_{5} + 2\\right ), \\quad \\left ( x_{13}, \\quad \\frac{x_{9}}{18}\\right ), \\quad \\left ( x_{14}, \\quad - x_{3}\\right ), \\quad \\left ( x_{15}, \\quad 9 \\left(u_{x} + u_{y}\\right)^{2}\\right ), \\quad \\left ( x_{16}, \\quad - x_{1}\\right ), \\quad \\left ( x_{17}, \\quad x_{14} + 6 x_{4} + 2\\right )\\right ], \\quad \\left [ Assignment(f_next_0, f_curr_0 - x10*(72*f_curr_0 + rho*(-x0 + x8 - 9*(-u_x + u_y)**2))), \\quad Assignment(f_next_1, f_curr_1 - x13*(18*f_curr_1 - rho*(x11 + x12))), \\quad Assignment(f_next_2, f_curr_2 - x10*(72*f_curr_2 - rho*(x1 + x12 + x14 + x15))), \\quad Assignment(f_next_3, f_curr_3 - x13*(18*f_curr_3 - rho*(x16 + x17))), \\quad Assignment(f_next_4, f_curr_4 - x9*(9*f_curr_4 + 2*rho*x7)/9), \\quad Assignment(f_next_5, f_curr_5 - x13*(18*f_curr_5 - rho*(x1 + x17))), \\quad Assignment(f_next_6, f_curr_6 - x10*(72*f_curr_6 + rho*(x0 - x15 + x8))), \\quad Assignment(f_next_7, f_curr_7 - x13*(18*f_curr_7 + rho*(x0 - x11 + x6))), \\quad Assignment(f_next_8, f_curr_8 - x10*(72*f_curr_8 + rho*(x0 + x16 + x7 - 9*(u_x - u_y)**2)))\\right ]\\right )$$"
      ],
      "text/plain": [
       "⎛⎡                         ⎛       2⎞              ⎛      2⎞                  \n",
       "⎜⎢(x₀, 6⋅u_y), (x₁, 6⋅uₓ), ⎝x₂, u_y ⎠, (x₃, 3⋅x₂), ⎝x₄, uₓ ⎠, (x₅, 3⋅x₄), (x₆,\n",
       "⎝⎣                                                                            \n",
       "\n",
       "                                        ⎛    1⎞  ⎛     x₉⎞                    \n",
       " x₅ - 2), (x₇, x₃ + x₆), (x₈, x₁ + x₇), ⎜x₉, ─⎟, ⎜x₁₀, ──⎟, (x₁₁, 6⋅x₂), (x₁₂,\n",
       "                                        ⎝    τ⎠  ⎝     72⎠                    \n",
       "\n",
       "               ⎛     x₉⎞              ⎛                 2⎞                    \n",
       " x₀ - x₅ + 2), ⎜x₁₃, ──⎟, (x₁₄, -x₃), ⎝x₁₅, 9⋅(uₓ + u_y) ⎠, (x₁₆, -x₁), (x₁₇, \n",
       "               ⎝     18⎠                                                      \n",
       "\n",
       "               ⎤  ⎡                          ⎛                ⎛               \n",
       "x₁₄ + 6⋅x₄ + 2)⎥, ⎢fₙₑₓₜ ₀ := f_curr_0 - x₁₀⋅⎝72⋅f_curr_0 + ρ⋅⎝-x₀ + x₈ - 9⋅(-\n",
       "               ⎦  ⎣                                                           \n",
       "\n",
       "         2⎞⎞                                                                  \n",
       "uₓ + u_y) ⎠⎠, fₙₑₓₜ ₁ := f_curr_1 - x₁₃⋅(18⋅f_curr_1 - ρ⋅(x₁₁ + x₁₂)), fₙₑₓₜ ₂\n",
       "                                                                              \n",
       "\n",
       "                                                                              \n",
       " := f_curr_2 - x₁₀⋅(72⋅f_curr_2 - ρ⋅(x₁ + x₁₂ + x₁₄ + x₁₅)), fₙₑₓₜ ₃ := f_curr\n",
       "                                                                              \n",
       "\n",
       "                                                              x₉⋅(9⋅f_curr_4 +\n",
       "_3 - x₁₃⋅(18⋅f_curr_3 - ρ⋅(x₁₆ + x₁₇)), fₙₑₓₜ ₄ := f_curr_4 - ────────────────\n",
       "                                                                         9    \n",
       "\n",
       " 2⋅ρ⋅x₇)                                                                      \n",
       "────────, fₙₑₓₜ ₅ := f_curr_5 - x₁₃⋅(18⋅f_curr_5 - ρ⋅(x₁ + x₁₇)), fₙₑₓₜ ₆ := f\n",
       "                                                                              \n",
       "\n",
       "                                                                              \n",
       "_curr_6 - x₁₀⋅(72⋅f_curr_6 + ρ⋅(x₀ - x₁₅ + x₈)), fₙₑₓₜ ₇ := f_curr_7 - x₁₃⋅(18\n",
       "                                                                              \n",
       "\n",
       "                                                          ⎛                ⎛  \n",
       "⋅f_curr_7 + ρ⋅(x₀ - x₁₁ + x₆)), fₙₑₓₜ ₈ := f_curr_8 - x₁₀⋅⎝72⋅f_curr_8 + ρ⋅⎝x₀\n",
       "                                                                              \n",
       "\n",
       "                          2⎞⎞⎤⎞\n",
       " + x₁₆ + x₇ - 9⋅(uₓ - u_y) ⎠⎠⎥⎟\n",
       "                             ⎦⎠"
      ]
     },
     "execution_count": 18,
     "metadata": {},
     "output_type": "execute_result"
    }
   ],
   "source": [
    "collide = cse(collide, optimizations='basic')\n",
    "collide"
   ]
  },
  {
   "cell_type": "code",
   "execution_count": 19,
   "metadata": {},
   "outputs": [
    {
     "name": "stdout",
     "output_type": "stream",
     "text": [
      "const float x0 = 6*u_y;\n",
      "const float x1 = 6*u_x;\n",
      "const float x2 = pow(u_y, 2);\n",
      "const float x3 = 3*x2;\n",
      "const float x4 = pow(u_x, 2);\n",
      "const float x5 = 3*x4;\n",
      "const float x6 = x5 - 2;\n",
      "const float x7 = x3 + x6;\n",
      "const float x8 = x1 + x7;\n",
      "const float x9 = 1.0/tau;\n",
      "const float x10 = (1.0/72.0)*x9;\n",
      "const float x11 = 6*x2;\n",
      "const float x12 = x0 - x5 + 2;\n",
      "const float x13 = (1.0/18.0)*x9;\n",
      "const float x14 = -x3;\n",
      "const float x15 = 9*pow(u_x + u_y, 2);\n",
      "const float x16 = -x1;\n",
      "const float x17 = x14 + 6*x4 + 2;\n"
     ]
    }
   ],
   "source": [
    "for expr in collide[0]:\n",
    "    print(\"const float %s = %s;\" % (expr[0], ccode(expr[1])))"
   ]
  },
  {
   "cell_type": "code",
   "execution_count": 20,
   "metadata": {},
   "outputs": [
    {
     "name": "stdout",
     "output_type": "stream",
     "text": [
      "f_next_0 = f_curr_0 - x10*(72*f_curr_0 + rho*(-x0 + x8 - 9*pow(-u_x + u_y, 2)));\n",
      "f_next_1 = f_curr_1 - x13*(18*f_curr_1 - rho*(x11 + x12));\n",
      "f_next_2 = f_curr_2 - x10*(72*f_curr_2 - rho*(x1 + x12 + x14 + x15));\n",
      "f_next_3 = f_curr_3 - x13*(18*f_curr_3 - rho*(x16 + x17));\n",
      "f_next_4 = f_curr_4 - 1.0/9.0*x9*(9*f_curr_4 + 2*rho*x7);\n",
      "f_next_5 = f_curr_5 - x13*(18*f_curr_5 - rho*(x1 + x17));\n",
      "f_next_6 = f_curr_6 - x10*(72*f_curr_6 + rho*(x0 - x15 + x8));\n",
      "f_next_7 = f_curr_7 - x13*(18*f_curr_7 + rho*(x0 - x11 + x6));\n",
      "f_next_8 = f_curr_8 - x10*(72*f_curr_8 + rho*(x0 + x16 + x7 - 9*pow(u_x - u_y, 2)));\n"
     ]
    }
   ],
   "source": [
    "for i, expr in enumerate(collide[1]):\n",
    "    print(ccode(expr))"
   ]
  },
  {
   "cell_type": "code",
   "execution_count": null,
   "metadata": {},
   "outputs": [],
   "source": []
  }
 ],
 "metadata": {
  "kernelspec": {
   "display_name": "Python 3",
   "language": "python",
   "name": "python3"
  },
  "language_info": {
   "codemirror_mode": {
    "name": "ipython",
    "version": 3
   },
   "file_extension": ".py",
   "mimetype": "text/x-python",
   "name": "python",
   "nbconvert_exporter": "python",
   "pygments_lexer": "ipython3",
   "version": "3.7.3"
  }
 },
 "nbformat": 4,
 "nbformat_minor": 2
}
