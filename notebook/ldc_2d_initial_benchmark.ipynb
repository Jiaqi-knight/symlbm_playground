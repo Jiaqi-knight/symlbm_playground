{
 "cells": [
  {
   "cell_type": "code",
   "execution_count": 1,
   "metadata": {},
   "outputs": [],
   "source": [
    "from lbm import Lattice, Geometry"
   ]
  },
  {
   "cell_type": "code",
   "execution_count": 2,
   "metadata": {},
   "outputs": [],
   "source": [
    "import symbolic.D2Q9 as D2Q9"
   ]
  },
  {
   "cell_type": "code",
   "execution_count": 3,
   "metadata": {},
   "outputs": [],
   "source": [
    "def cavity(geometry, x, y):\n",
    "    if x == 1 or y == 1 or x == geometry.size_x-2:\n",
    "        return 2\n",
    "    elif y == geometry.size_y-2:\n",
    "        return 3\n",
    "    else:\n",
    "        return 1"
   ]
  },
  {
   "cell_type": "code",
   "execution_count": 4,
   "metadata": {},
   "outputs": [],
   "source": [
    "boundary = \"\"\"\n",
    "    if ( m == 2 ) {\n",
    "        u_0 = 0.0;\n",
    "        u_1 = 0.0;\n",
    "    }\n",
    "    if ( m == 3 ) {\n",
    "        u_0 = 0.1;\n",
    "        u_1 = 0.0;\n",
    "    }\n",
    "\"\"\""
   ]
  },
  {
   "cell_type": "code",
   "execution_count": 5,
   "metadata": {},
   "outputs": [],
   "source": [
    "import time\n",
    "\n",
    "def MLUPS(cells, steps, time):\n",
    "    return cells * steps / time * 1e-6"
   ]
  },
  {
   "cell_type": "code",
   "execution_count": 6,
   "metadata": {},
   "outputs": [],
   "source": [
    "def test(nX, nY, nSteps):\n",
    "    lattice = Lattice(\n",
    "        descriptor = D2Q9,\n",
    "        geometry   = Geometry(nX, nY),\n",
    "        moments = D2Q9.moments(optimize = False),\n",
    "        collide = D2Q9.bgk(tau = 0.56),\n",
    "        boundary_src = boundary)\n",
    "    lattice.setup_geometry(cavity)\n",
    "    \n",
    "    start = time.time()\n",
    "    \n",
    "    for i in range(0,nSteps):\n",
    "        lattice.evolve()\n",
    "    lattice.sync()\n",
    "    \n",
    "    end = time.time()\n",
    "    \n",
    "    return MLUPS(lattice.geometry.volume, nSteps, end - start)"
   ]
  },
  {
   "cell_type": "code",
   "execution_count": 7,
   "metadata": {},
   "outputs": [
    {
     "name": "stdout",
     "output_type": "stream",
     "text": [
      "  32 :  15 MLUPS\n",
      "  64 :  62 MLUPS\n",
      "  96 : 135 MLUPS\n",
      " 128 : 233 MLUPS\n",
      " 160 : 376 MLUPS\n",
      " 192 : 539 MLUPS\n",
      " 224 : 744 MLUPS\n",
      " 256 : 761 MLUPS\n",
      " 288 : 763 MLUPS\n",
      " 320 : 776 MLUPS\n",
      " 352 : 726 MLUPS\n",
      " 384 : 717 MLUPS\n",
      " 416 : 750 MLUPS\n",
      " 448 : 798 MLUPS\n",
      " 480 : 797 MLUPS\n",
      " 512 : 818 MLUPS\n",
      " 544 : 802 MLUPS\n",
      " 576 : 814 MLUPS\n",
      " 608 : 814 MLUPS\n",
      " 640 : 812 MLUPS\n",
      " 672 : 815 MLUPS\n",
      " 704 : 815 MLUPS\n",
      " 736 : 804 MLUPS\n",
      " 768 : 824 MLUPS\n",
      " 800 : 728 MLUPS\n",
      " 832 : 722 MLUPS\n",
      " 864 : 819 MLUPS\n",
      " 896 : 826 MLUPS\n",
      " 928 : 828 MLUPS\n",
      " 960 : 822 MLUPS\n",
      " 992 : 824 MLUPS\n",
      "1024 : 823 MLUPS\n",
      "1056 : 822 MLUPS\n",
      "1088 : 822 MLUPS\n",
      "1120 : 825 MLUPS\n",
      "1152 : 828 MLUPS\n",
      "1184 : 821 MLUPS\n",
      "1216 : 818 MLUPS\n",
      "1248 : 813 MLUPS\n",
      "1280 : 828 MLUPS\n",
      "1312 : 824 MLUPS\n",
      "1344 : 827 MLUPS\n",
      "1376 : 826 MLUPS\n",
      "1408 : 823 MLUPS\n",
      "1440 : 826 MLUPS\n",
      "1472 : 824 MLUPS\n",
      "1504 : 826 MLUPS\n",
      "1536 : 828 MLUPS\n",
      "1568 : 823 MLUPS\n",
      "1600 : 824 MLUPS\n",
      "1632 : 825 MLUPS\n",
      "1664 : 828 MLUPS\n",
      "1696 : 827 MLUPS\n",
      "1728 : 830 MLUPS\n",
      "1760 : 831 MLUPS\n",
      "1792 : 826 MLUPS\n",
      "1824 : 828 MLUPS\n",
      "1856 : 826 MLUPS\n",
      "1888 : 825 MLUPS\n",
      "1920 : 826 MLUPS\n",
      "1952 : 826 MLUPS\n",
      "1984 : 826 MLUPS\n",
      "2016 : 827 MLUPS\n",
      "2048 : 840 MLUPS\n",
      "2080 : 829 MLUPS\n",
      "2112 : 828 MLUPS\n",
      "2144 : 828 MLUPS\n",
      "2176 : 831 MLUPS\n",
      "2208 : 826 MLUPS\n",
      "2240 : 828 MLUPS\n",
      "2272 : 829 MLUPS\n",
      "2304 : 831 MLUPS\n",
      "2336 : 828 MLUPS\n",
      "2368 : 831 MLUPS\n",
      "2400 : 829 MLUPS\n",
      "2432 : 829 MLUPS\n",
      "2464 : 829 MLUPS\n",
      "2496 : 830 MLUPS\n",
      "2528 : 830 MLUPS\n",
      "2560 : 814 MLUPS\n",
      "2592 : 827 MLUPS\n",
      "2624 : 828 MLUPS\n",
      "2656 : 828 MLUPS\n",
      "2688 : 829 MLUPS\n",
      "2720 : 828 MLUPS\n",
      "2752 : 830 MLUPS\n",
      "2784 : 827 MLUPS\n",
      "2816 : 829 MLUPS\n",
      "2848 : 826 MLUPS\n",
      "2880 : 830 MLUPS\n",
      "2912 : 829 MLUPS\n",
      "2944 : 826 MLUPS\n",
      "2976 : 828 MLUPS\n",
      "3008 : 828 MLUPS\n",
      "3040 : 829 MLUPS\n",
      "3072 : 832 MLUPS\n",
      "3104 : 826 MLUPS\n",
      "3136 : 829 MLUPS\n",
      "3168 : 827 MLUPS\n"
     ]
    }
   ],
   "source": [
    "results = []\n",
    "for size in [ 32*i for i in range(1,100) ]:\n",
    "    perf = test(nX = size, nY = size, nSteps = 100)\n",
    "    results.append((size, perf))\n",
    "    print(\"%4d : %3.0f MLUPS\" % (size, perf))"
   ]
  },
  {
   "cell_type": "code",
   "execution_count": 8,
   "metadata": {},
   "outputs": [],
   "source": [
    "import matplotlib\n",
    "import matplotlib.pyplot as plt\n",
    "matplotlib.use('AGG')"
   ]
  },
  {
   "cell_type": "code",
   "execution_count": 9,
   "metadata": {},
   "outputs": [
    {
     "data": {
      "text/plain": [
       "Text(0, 0.5, 'MLUPS')"
      ]
     },
     "execution_count": 9,
     "metadata": {},
     "output_type": "execute_result"
    },
    {
     "data": {
      "image/png": "[encoded data removed]",
      "text/plain": [
       "<Figure size 1152x576 with 1 Axes>"
      ]
     },
     "metadata": {
      "needs_background": "light"
     },
     "output_type": "display_data"
    }
   ],
   "source": [
    "plt.figure(figsize=(16,8))\n",
    "plt.scatter(*zip(*results))\n",
    "plt.title('LDC Performance for various grid sizes using a Nvidia K2200')\n",
    "plt.xlabel('Size')\n",
    "plt.ylabel('MLUPS')"
   ]
  },
  {
   "cell_type": "code",
   "execution_count": null,
   "metadata": {},
   "outputs": [],
   "source": []
  }
 ],
 "metadata": {
  "kernelspec": {
   "display_name": "Python 3",
   "language": "python",
   "name": "python3"
  },
  "language_info": {
   "codemirror_mode": {
    "name": "ipython",
    "version": 3
   },
   "file_extension": ".py",
   "mimetype": "text/x-python",
   "name": "python",
   "nbconvert_exporter": "python",
   "pygments_lexer": "ipython3",
   "version": "3.7.3"
  }
 },
 "nbformat": 4,
 "nbformat_minor": 2
}
