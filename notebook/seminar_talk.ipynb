{
 "cells": [
  {
   "cell_type": "raw",
   "metadata": {
    "slideshow": {
     "slide_type": "-"
    }
   },
   "source": [
    "<script>\n",
    "setTimeout(function() {\n",
    "\tReveal.configure({\n",
    "\t\twidth: \"90%\",\n",
    "\t\theight: \"100%\",\n",
    "\t\tmargin: 0,\n",
    "\t\tminScale: 1,\n",
    "\t\tmaxScale: 1,\n",
    "        fragmentInURL: true,\n",
    "\t});\n",
    "}, 1000);\n",
    "</script>"
   ]
  },
  {
   "cell_type": "code",
   "execution_count": 1,
   "metadata": {
    "slideshow": {
     "slide_type": "skip"
    }
   },
   "outputs": [],
   "source": [
    "from sympy import *\n",
    "init_printing(wrap_line=True)\n",
    "from itertools import product\n",
    "from IPython.display import display, Math"
   ]
  },
  {
   "cell_type": "code",
   "execution_count": 2,
   "metadata": {
    "slideshow": {
     "slide_type": "skip"
    }
   },
   "outputs": [],
   "source": [
    "from sympy.printing.latex import LatexPrinter\n",
    "\n",
    "class Printer(LatexPrinter):\n",
    "    def _print_list(self, l):\n",
    "        items = []\n",
    "\n",
    "        for expr in l:\n",
    "            if type(expr) is tuple:\n",
    "                items.append(\"%s &= %s\" % (self._print(expr[0]), self._print(expr[1])))\n",
    "            else:\n",
    "                items.append(\"%s &= %s\" % (self._print(expr.lhs), self._print(expr.rhs)))\n",
    "\n",
    "        return r\"\\begin{align} %s \\end{align}\" % r\", \\\\ \".join(items)\n",
    "    \n",
    "def aligned(expr):\n",
    "    return Math(Printer().doprint(expr))"
   ]
  },
  {
   "cell_type": "code",
   "execution_count": 3,
   "metadata": {
    "slideshow": {
     "slide_type": "skip"
    }
   },
   "outputs": [],
   "source": [
    "# copy of `sympy.integrals.quadrature.gauss_hermite` sans evaluation\n",
    "def gauss_hermite(n):\n",
    "    x = Dummy(\"x\")\n",
    "    p  = hermite_poly(n, x, polys=True)\n",
    "    p1 = hermite_poly(n-1, x, polys=True)\n",
    "    xi = []\n",
    "    w  = []\n",
    "    for r in p.real_roots():\n",
    "        xi.append(r)\n",
    "        w.append(((2**(n-1) * factorial(n) * sqrt(pi))/(n**2 * p1.subs(x, r)**2)))\n",
    "    return xi, w"
   ]
  },
  {
   "cell_type": "code",
   "execution_count": 4,
   "metadata": {
    "slideshow": {
     "slide_type": "skip"
    }
   },
   "outputs": [],
   "source": [
    "def eq2assgn(m):\n",
    "    return list(map(lambda expr: (expr.lhs, expr.rhs), m))"
   ]
  },
  {
   "cell_type": "markdown",
   "metadata": {
    "slideshow": {
     "slide_type": "slide"
    }
   },
   "source": [
    "# Symbolic generation of GPU-based Lattice Boltzmann implementations\n",
    "\n",
    "#### Adrian Kummerländer"
   ]
  },
  {
   "cell_type": "markdown",
   "metadata": {
    "slideshow": {
     "slide_type": "slide"
    }
   },
   "source": [
    "## Lattice Boltzmann Method\n",
    "  \n",
    "  \n",
    "$$\\begin{align*}\\Omega(f) &= \\left( \\partial_t + \\xi \\, \\partial_x + \\frac{F}{\\rho} \\, \\partial_\\xi \\right) f && \\text{Boltzmann equation} \\\\ (\\partial_t + \\xi_i \\cdot \\nabla_x) f_i(x,t) &= -\\frac{1}{\\tau} (f_i(x,t) - f_i^\\text{eq}(x,t)) &&\\text{BGK approximation} \\\\ f_i^\\text{eq} :&= \\omega_i \\rho \\left( 1 + \\frac{u \\cdot \\xi_i}{c_s^2} + \\frac{(u \\cdot \\xi_i)^2}{2c_s^4} - \\frac{u \\cdot u}{2c_s^2} \\right) &&\\text{Discrete equilibrium} \\\\ \\overline{f_i}(x+\\xi_i,t+1) &= \\overline{f_i}(x,t) - \\frac{1}{\\overline\\tau} (\\overline{f_i}(x,t) - f_i^\\text{eq}(x,t)) &&\\text{Discrete LBM BGK equation}\n",
    "\\end{align*}$$\n",
    "\n",
    "…nothing special."
   ]
  },
  {
   "cell_type": "markdown",
   "metadata": {
    "slideshow": {
     "slide_type": "slide"
    }
   },
   "source": [
    "## Symbolic computation"
   ]
  },
  {
   "cell_type": "markdown",
   "metadata": {
    "slideshow": {
     "slide_type": "subslide"
    }
   },
   "source": [
    "### Experimental symbolic differentiation\n",
    "\n",
    "```Prolog\n",
    "% derivative of x is 1\n",
    "diff(X, X, 1) :- !. % cut to prevent further rule applications\n",
    "\n",
    "% derivative of a constant is 0\n",
    "diff(C, X, 0) :- number(C).\n",
    "\n",
    "% sum rule\n",
    "diff(U+V, X, D) :- diff(U, X, DU), diff(V, X, DV), D = DU + DV.\n",
    "diff(U-V, X, D) :- diff(U, X, DU), diff(V, X, DV), D = DU - DV.\n",
    "\n",
    "% product rule\n",
    "diff(U*V, X, U*DV+V*DU) :- diff(U, X, DU), diff(V, X, DV).\n",
    "\n",
    "% quotient rule\n",
    "diff(U/V, X, (DU*V-DV*U)/(V*V)) :- diff(U, X, DU), diff(V, X, DV).\n",
    "\n",
    "% some special derivatives\n",
    "diff(sin(U), X,   DU*cos(U))  :- diff(U, X, DU).\n",
    "diff(cos(U), X, -(DU*sin(U))) :- diff(U, X, DU).\n",
    "diff(log(U), X, DU/U) :- diff(U, X, DU).\n",
    "```"
   ]
  },
  {
   "cell_type": "markdown",
   "metadata": {
    "slideshow": {
     "slide_type": "subslide"
    }
   },
   "source": [
    "```Prolog\n",
    "?- diff(x*x,x,D).\n",
    "D = x*1+x*1.\n",
    "\n",
    "?- diff(3*sin(x*x),x,D).\n",
    "D = 3*((x*1+x*1)*cos(x*x))+sin(x*x)*0.\n",
    "\n",
    "?- diff(x*x*x+2*x+log(x),x,D).\n",
    "D = x*x*1+x*(x*1+x*1)+(2*1+x*0)+1/x.\n",
    "```"
   ]
  },
  {
   "cell_type": "code",
   "execution_count": 5,
   "metadata": {
    "slideshow": {
     "slide_type": "fragment"
    }
   },
   "outputs": [
    {
     "data": {
      "image/png": "[encoded data removed]",
      "text/latex": [
       "$$3 x^{2} + 2 + \\frac{1}{x}$$"
      ],
      "text/plain": [
       "   2       1\n",
       "3⋅x  + 2 + ─\n",
       "           x"
      ]
     },
     "execution_count": 5,
     "metadata": {},
     "output_type": "execute_result"
    }
   ],
   "source": [
    "x = symbols('x')\n",
    "diff(x**3+2*x+log(x),x)"
   ]
  },
  {
   "cell_type": "markdown",
   "metadata": {
    "slideshow": {
     "slide_type": "slide"
    }
   },
   "source": [
    "## Symbolic collision kernel\n",
    "\n",
    "- Discrete equilibrium distribution\n",
    "  - Characteristic constants\n",
    "  - Moments\n",
    "- Discrete BGK collision operator"
   ]
  },
  {
   "cell_type": "markdown",
   "metadata": {
    "slideshow": {
     "slide_type": "slide"
    }
   },
   "source": [
    "## Characteristic constants"
   ]
  },
  {
   "cell_type": "code",
   "execution_count": 6,
   "metadata": {
    "slideshow": {
     "slide_type": "fragment"
    }
   },
   "outputs": [],
   "source": [
    "d = 2\n",
    "q = 9"
   ]
  },
  {
   "cell_type": "code",
   "execution_count": 7,
   "metadata": {
    "slideshow": {
     "slide_type": "fragment"
    }
   },
   "outputs": [],
   "source": [
    "c = [ Matrix(x) for x in product([-1,0,1], repeat=d) ]"
   ]
  },
  {
   "cell_type": "code",
   "execution_count": 8,
   "metadata": {
    "slideshow": {
     "slide_type": "fragment"
    }
   },
   "outputs": [
    {
     "data": {
      "text/latex": [
       "$$\\left [ \\left[\\begin{matrix}-1\\\\-1\\end{matrix}\\right], \\quad \\left[\\begin{matrix}-1\\\\0\\end{matrix}\\right], \\quad \\left[\\begin{matrix}-1\\\\1\\end{matrix}\\right], \\quad \\left[\\begin{matrix}0\\\\-1\\end{matrix}\\right], \\quad \\left[\\begin{matrix}0\\\\0\\end{matrix}\\right], \\quad \\left[\\begin{matrix}0\\\\1\\end{matrix}\\right], \\quad \\left[\\begin{matrix}1\\\\-1\\end{matrix}\\right], \\quad \\left[\\begin{matrix}1\\\\0\\end{matrix}\\right], \\quad \\left[\\begin{matrix}1\\\\1\\end{matrix}\\right]\\right ]$$"
      ],
      "text/plain": [
       "⎡⎡-1⎤  ⎡-1⎤  ⎡-1⎤  ⎡0 ⎤  ⎡0⎤  ⎡0⎤  ⎡1 ⎤  ⎡1⎤  ⎡1⎤⎤\n",
       "⎢⎢  ⎥, ⎢  ⎥, ⎢  ⎥, ⎢  ⎥, ⎢ ⎥, ⎢ ⎥, ⎢  ⎥, ⎢ ⎥, ⎢ ⎥⎥\n",
       "⎣⎣-1⎦  ⎣0 ⎦  ⎣1 ⎦  ⎣-1⎦  ⎣0⎦  ⎣1⎦  ⎣-1⎦  ⎣0⎦  ⎣1⎦⎦"
      ]
     },
     "execution_count": 8,
     "metadata": {},
     "output_type": "execute_result"
    }
   ],
   "source": [
    "c"
   ]
  },
  {
   "cell_type": "markdown",
   "metadata": {
    "slideshow": {
     "slide_type": "subslide"
    }
   },
   "source": [
    "## Derivation of weights"
   ]
  },
  {
   "cell_type": "markdown",
   "metadata": {
    "slideshow": {
     "slide_type": "fragment"
    }
   },
   "source": [
    "Weights of third order Gauss-Hermite quadrature:\n",
    "\n",
    "$$\\eta_{-1} = \\frac{\\sqrt{\\pi}}{6},\\ \\eta_0 = \\frac{2 \\sqrt{\\pi}}{3},\\ \\eta_1 = \\frac{\\sqrt{\\pi}}{6}$$\n",
    "\n",
    "Weight formulation [Eq. (39) resp. (43), HeLuo97]:\n",
    "\n",
    "$$\\omega_i = \\frac{1}{\\sqrt{\\pi^{d}}} \\prod_{j=0}^{d-1} \\eta_{(\\xi_i)_j}$$"
   ]
  },
  {
   "cell_type": "code",
   "execution_count": 9,
   "metadata": {
    "slideshow": {
     "slide_type": "subslide"
    }
   },
   "outputs": [],
   "source": [
    "def weights(d, c):\n",
    "    _, omegas = gauss_hermite(3)\n",
    "    return list(map(\n",
    "        lambda c_i: Mul(*[ omegas[1+c_i[iDim]] \n",
    "                          for iDim in range(0,d) ]) / pi**(d/2),\n",
    "        c))"
   ]
  },
  {
   "cell_type": "code",
   "execution_count": 10,
   "metadata": {
    "slideshow": {
     "slide_type": "fragment"
    }
   },
   "outputs": [
    {
     "data": {
      "image/png": "[encoded data removed]",
      "text/latex": [
       "$$\\left [ \\frac{1}{36}, \\quad \\frac{1}{9}, \\quad \\frac{1}{36}, \\quad \\frac{1}{9}, \\quad \\frac{4}{9}, \\quad \\frac{1}{9}, \\quad \\frac{1}{36}, \\quad \\frac{1}{9}, \\quad \\frac{1}{36}\\right ]$$"
      ],
      "text/plain": [
       "[1/36, 1/9, 1/36, 1/9, 4/9, 1/9, 1/36, 1/9, 1/36]"
      ]
     },
     "execution_count": 10,
     "metadata": {},
     "output_type": "execute_result"
    }
   ],
   "source": [
    "w = weights(d, c)\n",
    "w"
   ]
  },
  {
   "cell_type": "markdown",
   "metadata": {
    "slideshow": {
     "slide_type": "subslide"
    }
   },
   "source": [
    "## Recovering the speed of sound"
   ]
  },
  {
   "cell_type": "markdown",
   "metadata": {
    "slideshow": {
     "slide_type": "fragment"
    }
   },
   "source": [
    "$$\\begin{align*}\\sum_{i=1}^{q-1} \\omega_i (\\xi_i)_a (\\xi_i)_b &= c_s^2 \\delta_{a,b} &&\\text{[Eq. (3.60), Krüger2017]}\\end{align*}$$"
   ]
  },
  {
   "cell_type": "code",
   "execution_count": 11,
   "metadata": {
    "slideshow": {
     "slide_type": "fragment"
    }
   },
   "outputs": [],
   "source": [
    "def c_s(d, c, w):\n",
    "    speeds = set([ sqrt(sum([ w[i] * c_i[j]**2\n",
    "                             for i, c_i in enumerate(c) ])) \n",
    "                  for j in range(0,d) ])\n",
    "    assert len(speeds) == 1 # verify isotropy\n",
    "    return speeds.pop()"
   ]
  },
  {
   "cell_type": "code",
   "execution_count": 12,
   "metadata": {
    "slideshow": {
     "slide_type": "fragment"
    }
   },
   "outputs": [
    {
     "data": {
      "image/png": "[encoded data removed]",
      "text/latex": [
       "$$\\frac{\\sqrt{3}}{3}$$"
      ],
      "text/plain": [
       "√3\n",
       "──\n",
       "3 "
      ]
     },
     "execution_count": 12,
     "metadata": {},
     "output_type": "execute_result"
    }
   ],
   "source": [
    "cs = c_s(d, c, w)\n",
    "cs"
   ]
  },
  {
   "cell_type": "markdown",
   "metadata": {
    "slideshow": {
     "slide_type": "slide"
    }
   },
   "source": [
    "## Moments"
   ]
  },
  {
   "cell_type": "code",
   "execution_count": 13,
   "metadata": {
    "slideshow": {
     "slide_type": "fragment"
    }
   },
   "outputs": [],
   "source": [
    "rho = symbols('rho')\n",
    "u   = Matrix(symarray('u', d))"
   ]
  },
  {
   "cell_type": "code",
   "execution_count": 14,
   "metadata": {
    "slideshow": {
     "slide_type": "fragment"
    }
   },
   "outputs": [
    {
     "data": {
      "text/plain": [
       "array([f_next_0, f_next_1, f_next_2, f_next_3, f_next_4, f_next_5,\n",
       "       f_next_6, f_next_7, f_next_8], dtype=object)"
      ]
     },
     "execution_count": 14,
     "metadata": {},
     "output_type": "execute_result"
    }
   ],
   "source": [
    "f_next = symarray('f_next', q)\n",
    "f_next"
   ]
  },
  {
   "cell_type": "code",
   "execution_count": 15,
   "metadata": {
    "slideshow": {
     "slide_type": "fragment"
    }
   },
   "outputs": [
    {
     "data": {
      "text/plain": [
       "array([f_curr_0, f_curr_1, f_curr_2, f_curr_3, f_curr_4, f_curr_5,\n",
       "       f_curr_6, f_curr_7, f_curr_8], dtype=object)"
      ]
     },
     "execution_count": 15,
     "metadata": {},
     "output_type": "execute_result"
    }
   ],
   "source": [
    "f_curr = symarray('f_curr', q)\n",
    "f_curr"
   ]
  },
  {
   "cell_type": "code",
   "execution_count": 16,
   "metadata": {
    "slideshow": {
     "slide_type": "subslide"
    }
   },
   "outputs": [
    {
     "data": {
      "image/png": "[encoded data removed]",
      "text/latex": [
       "$$\\left [ \\rho = f_{curr 0} + f_{curr 1} + f_{curr 2} + f_{curr 3} + f_{curr 4} + f_{curr 5} + f_{curr 6} + f_{curr 7} + f_{curr 8}\\right ]$$"
      ],
      "text/plain": [
       "[ρ = f_curr_0 + f_curr_1 + f_curr_2 + f_curr_3 + f_curr_4 + f_curr_5 + f_curr_\n",
       "6 + f_curr_7 + f_curr_8]"
      ]
     },
     "execution_count": 16,
     "metadata": {},
     "output_type": "execute_result"
    }
   ],
   "source": [
    "moments = [ Eq(rho, sum(f_curr)) ]\n",
    "moments"
   ]
  },
  {
   "cell_type": "markdown",
   "metadata": {
    "slideshow": {
     "slide_type": "fragment"
    }
   },
   "source": [
    "$$\\begin{align*}u(x,t) &= \\frac{1}{\\rho} \\sum_{i=0}^{q-1} \\xi_i f_i(x,t) &&\\text{Velocity}\\end{align*}$$"
   ]
  },
  {
   "cell_type": "code",
   "execution_count": 17,
   "metadata": {
    "slideshow": {
     "slide_type": "fragment"
    }
   },
   "outputs": [
    {
     "data": {
      "text/latex": [
       "$\\displaystyle \\begin{align} \\rho &= f_{curr 0} + f_{curr 1} + f_{curr 2} + f_{curr 3} + f_{curr 4} + f_{curr 5} + f_{curr 6} + f_{curr 7} + f_{curr 8}, \\\\ u_{0} &= \\frac{- f_{curr 0} - f_{curr 1} - f_{curr 2} + f_{curr 6} + f_{curr 7} + f_{curr 8}}{f_{curr 0} + f_{curr 1} + f_{curr 2} + f_{curr 3} + f_{curr 4} + f_{curr 5} + f_{curr 6} + f_{curr 7} + f_{curr 8}}, \\\\ u_{1} &= \\frac{- f_{curr 0} + f_{curr 2} - f_{curr 3} + f_{curr 5} - f_{curr 6} + f_{curr 8}}{f_{curr 0} + f_{curr 1} + f_{curr 2} + f_{curr 3} + f_{curr 4} + f_{curr 5} + f_{curr 6} + f_{curr 7} + f_{curr 8}} \\end{align}$"
      ],
      "text/plain": [
       "<IPython.core.display.Math object>"
      ]
     },
     "execution_count": 17,
     "metadata": {},
     "output_type": "execute_result"
    }
   ],
   "source": [
    "for i, u_i in enumerate(u):\n",
    "    moments.append(\n",
    "        Eq(u_i,\n",
    "           sum([ (c_j*f_curr[j])[i] for j, c_j in enumerate(c) ]) / sum(f_curr)))\n",
    "aligned(moments)"
   ]
  },
  {
   "cell_type": "markdown",
   "metadata": {
    "slideshow": {
     "slide_type": "slide"
    }
   },
   "source": [
    "## Discrete equilibrium distribution"
   ]
  },
  {
   "cell_type": "markdown",
   "metadata": {},
   "source": [
    "$$f_i^\\text{eq} := \\omega_i \\rho \\left( 1 + \\frac{u \\cdot \\xi_i}{c_s^2} + \\frac{(u \\cdot \\xi_i)^2}{2c_s^4} - \\frac{u \\cdot u}{2c_s^2} \\right)$$"
   ]
  },
  {
   "cell_type": "code",
   "execution_count": 18,
   "metadata": {
    "scrolled": true,
    "slideshow": {
     "slide_type": "fragment"
    }
   },
   "outputs": [
    {
     "data": {
      "image/png": "[encoded data removed]",
      "text/latex": [
       "$$\\left [ \\frac{\\rho \\left(- \\frac{3 u_{0}^{2}}{2} - 3 u_{0} - \\frac{3 u_{1}^{2}}{2} - 3 u_{1} + \\frac{9 \\left(- u_{0} - u_{1}\\right)^{2}}{2} + 1\\right)}{36}, \\quad \\frac{\\rho \\left(3 u_{0}^{2} - 3 u_{0} - \\frac{3 u_{1}^{2}}{2} + 1\\right)}{9}, \\quad \\frac{\\rho \\left(- \\frac{3 u_{0}^{2}}{2} - 3 u_{0} - \\frac{3 u_{1}^{2}}{2} + 3 u_{1} + \\frac{9 \\left(- u_{0} + u_{1}\\right)^{2}}{2} + 1\\right)}{36}, \\quad \\frac{\\rho \\left(- \\frac{3 u_{0}^{2}}{2} + 3 u_{1}^{2} - 3 u_{1} + 1\\right)}{9}, \\quad \\frac{4 \\rho \\left(- \\frac{3 u_{0}^{2}}{2} - \\frac{3 u_{1}^{2}}{2} + 1\\right)}{9}, \\quad \\frac{\\rho \\left(- \\frac{3 u_{0}^{2}}{2} + 3 u_{1}^{2} + 3 u_{1} + 1\\right)}{9}, \\quad \\frac{\\rho \\left(- \\frac{3 u_{0}^{2}}{2} + 3 u_{0} - \\frac{3 u_{1}^{2}}{2} - 3 u_{1} + \\frac{9 \\left(u_{0} - u_{1}\\right)^{2}}{2} + 1\\right)}{36}, \\quad \\frac{\\rho \\left(3 u_{0}^{2} + 3 u_{0} - \\frac{3 u_{1}^{2}}{2} + 1\\right)}{9}, \\quad \\frac{\\rho \\left(- \\frac{3 u_{0}^{2}}{2} + 3 u_{0} - \\frac{3 u_{1}^{2}}{2} + 3 u_{1} + \\frac{9 \\left(u_{0} + u_{1}\\right)^{2}}{2} + 1\\right)}{36}\\right ]$$"
      ],
      "text/plain": [
       "⎡  ⎛      2              2                      2    ⎞    ⎛                   \n",
       "⎢  ⎜  3⋅u₀           3⋅u₁           9⋅(-u₀ - u₁)     ⎟    ⎜    2          3⋅u₁\n",
       "⎢ρ⋅⎜- ───── - 3⋅u₀ - ───── - 3⋅u₁ + ───────────── + 1⎟  ρ⋅⎜3⋅u₀  - 3⋅u₀ - ────\n",
       "⎢  ⎝    2              2                  2          ⎠    ⎝                 2 \n",
       "⎢─────────────────────────────────────────────────────, ──────────────────────\n",
       "⎣                          36                                        9        \n",
       "\n",
       "2    ⎞    ⎛      2              2                      2    ⎞    ⎛      2     \n",
       "     ⎟    ⎜  3⋅u₀           3⋅u₁           9⋅(-u₀ + u₁)     ⎟    ⎜  3⋅u₀      \n",
       "─ + 1⎟  ρ⋅⎜- ───── - 3⋅u₀ - ───── + 3⋅u₁ + ───────────── + 1⎟  ρ⋅⎜- ───── + 3⋅\n",
       "     ⎠    ⎝    2              2                  2          ⎠    ⎝    2       \n",
       "──────, ─────────────────────────────────────────────────────, ───────────────\n",
       "                                  36                                         9\n",
       "\n",
       "              ⎞      ⎛      2       2    ⎞    ⎛      2                   ⎞    \n",
       "  2           ⎟      ⎜  3⋅u₀    3⋅u₁     ⎟    ⎜  3⋅u₀        2           ⎟    \n",
       "u₁  - 3⋅u₁ + 1⎟  4⋅ρ⋅⎜- ───── - ───── + 1⎟  ρ⋅⎜- ───── + 3⋅u₁  + 3⋅u₁ + 1⎟  ρ⋅\n",
       "              ⎠      ⎝    2       2      ⎠    ⎝    2                     ⎠    \n",
       "───────────────, ─────────────────────────, ──────────────────────────────, ──\n",
       "                             9                            9                   \n",
       "\n",
       "⎛      2              2                     2    ⎞    ⎛                   2   \n",
       "⎜  3⋅u₀           3⋅u₁           9⋅(u₀ - u₁)     ⎟    ⎜    2          3⋅u₁    \n",
       "⎜- ───── + 3⋅u₀ - ───── - 3⋅u₁ + ──────────── + 1⎟  ρ⋅⎜3⋅u₀  + 3⋅u₀ - ───── + \n",
       "⎝    2              2                 2          ⎠    ⎝                 2     \n",
       "──────────────────────────────────────────────────, ──────────────────────────\n",
       "                       36                                        9            \n",
       "\n",
       " ⎞    ⎛      2              2                     2    ⎞⎤\n",
       " ⎟    ⎜  3⋅u₀           3⋅u₁           9⋅(u₀ + u₁)     ⎟⎥\n",
       "1⎟  ρ⋅⎜- ───── + 3⋅u₀ - ───── + 3⋅u₁ + ──────────── + 1⎟⎥\n",
       " ⎠    ⎝    2              2                 2          ⎠⎥\n",
       "──, ────────────────────────────────────────────────────⎥\n",
       "                             36                         ⎦"
      ]
     },
     "execution_count": 18,
     "metadata": {},
     "output_type": "execute_result"
    }
   ],
   "source": [
    "f_eq = []\n",
    "\n",
    "for i, c_i in enumerate(c):\n",
    "    f_eq_i = w[i] * rho * (  1\n",
    "                           + c_i.dot(u)    /    cs**2\n",
    "                           + c_i.dot(u)**2 / (2*cs**4)\n",
    "                           - u.dot(u)      / (2*cs**2) )\n",
    "    f_eq.append(f_eq_i)\n",
    "\n",
    "f_eq"
   ]
  },
  {
   "cell_type": "markdown",
   "metadata": {
    "slideshow": {
     "slide_type": "slide"
    }
   },
   "source": [
    "## BGK collision operator"
   ]
  },
  {
   "cell_type": "markdown",
   "metadata": {
    "slideshow": {
     "slide_type": "fragment"
    }
   },
   "source": [
    "$$\\overline{f_i}(x+\\xi_i,t+1) = \\overline{f_i}(x,t) - \\frac{1}{\\overline\\tau} (\\overline{f_i}(x,t) - f_i^\\text{eq}(x,t))$$"
   ]
  },
  {
   "cell_type": "code",
   "execution_count": 19,
   "metadata": {
    "slideshow": {
     "slide_type": "fragment"
    }
   },
   "outputs": [],
   "source": [
    "tau = symbols('tau')"
   ]
  },
  {
   "cell_type": "code",
   "execution_count": 20,
   "metadata": {
    "slideshow": {
     "slide_type": "fragment"
    }
   },
   "outputs": [
    {
     "data": {
      "text/latex": [
       "$\\displaystyle \\begin{align} f_{next 0} &= f_{curr 0} + \\frac{- f_{curr 0} + \\frac{\\rho \\left(- \\frac{3 u_{0}^{2}}{2} - 3 u_{0} - \\frac{3 u_{1}^{2}}{2} - 3 u_{1} + \\frac{9 \\left(- u_{0} - u_{1}\\right)^{2}}{2} + 1\\right)}{36}}{\\tau}, \\\\ f_{next 1} &= f_{curr 1} + \\frac{- f_{curr 1} + \\frac{\\rho \\left(3 u_{0}^{2} - 3 u_{0} - \\frac{3 u_{1}^{2}}{2} + 1\\right)}{9}}{\\tau}, \\\\ f_{next 2} &= f_{curr 2} + \\frac{- f_{curr 2} + \\frac{\\rho \\left(- \\frac{3 u_{0}^{2}}{2} - 3 u_{0} - \\frac{3 u_{1}^{2}}{2} + 3 u_{1} + \\frac{9 \\left(- u_{0} + u_{1}\\right)^{2}}{2} + 1\\right)}{36}}{\\tau}, \\\\ f_{next 3} &= f_{curr 3} + \\frac{- f_{curr 3} + \\frac{\\rho \\left(- \\frac{3 u_{0}^{2}}{2} + 3 u_{1}^{2} - 3 u_{1} + 1\\right)}{9}}{\\tau}, \\\\ f_{next 4} &= f_{curr 4} + \\frac{- f_{curr 4} + \\frac{4 \\rho \\left(- \\frac{3 u_{0}^{2}}{2} - \\frac{3 u_{1}^{2}}{2} + 1\\right)}{9}}{\\tau}, \\\\ f_{next 5} &= f_{curr 5} + \\frac{- f_{curr 5} + \\frac{\\rho \\left(- \\frac{3 u_{0}^{2}}{2} + 3 u_{1}^{2} + 3 u_{1} + 1\\right)}{9}}{\\tau}, \\\\ f_{next 6} &= f_{curr 6} + \\frac{- f_{curr 6} + \\frac{\\rho \\left(- \\frac{3 u_{0}^{2}}{2} + 3 u_{0} - \\frac{3 u_{1}^{2}}{2} - 3 u_{1} + \\frac{9 \\left(u_{0} - u_{1}\\right)^{2}}{2} + 1\\right)}{36}}{\\tau}, \\\\ f_{next 7} &= f_{curr 7} + \\frac{- f_{curr 7} + \\frac{\\rho \\left(3 u_{0}^{2} + 3 u_{0} - \\frac{3 u_{1}^{2}}{2} + 1\\right)}{9}}{\\tau}, \\\\ f_{next 8} &= f_{curr 8} + \\frac{- f_{curr 8} + \\frac{\\rho \\left(- \\frac{3 u_{0}^{2}}{2} + 3 u_{0} - \\frac{3 u_{1}^{2}}{2} + 3 u_{1} + \\frac{9 \\left(u_{0} + u_{1}\\right)^{2}}{2} + 1\\right)}{36}}{\\tau} \\end{align}$"
      ],
      "text/plain": [
       "<IPython.core.display.Math object>"
      ]
     },
     "execution_count": 20,
     "metadata": {},
     "output_type": "execute_result"
    }
   ],
   "source": [
    "collide = [ Eq(f_next[i],\n",
    "               f_curr[i] + 1/tau * ( f_eq_i - f_curr[i] ))\n",
    "           for i, f_eq_i in enumerate(f_eq) ]\n",
    "aligned(collide)"
   ]
  },
  {
   "cell_type": "code",
   "execution_count": 21,
   "metadata": {
    "slideshow": {
     "slide_type": "subslide"
    }
   },
   "outputs": [],
   "source": [
    "def bgk_collide(m):\n",
    "    return list(map(lambda expr: expr.subs(eq2assgn(m)), collide))"
   ]
  },
  {
   "cell_type": "code",
   "execution_count": 22,
   "metadata": {
    "slideshow": {
     "slide_type": "fragment"
    }
   },
   "outputs": [
    {
     "name": "stdout",
     "output_type": "stream",
     "text": [
      "Eq(f_next_0, f_curr_0 + (-f_curr_0 + (9*(-(-f_curr_0 - f_curr_1 - f_curr_2 + f_curr_6 + f_curr_7 + f_curr_8)/(f_curr_0 + f_curr_1 + f_curr_2 + f_curr_3 + f_curr_4 + f_curr_5 + f_curr_6 + f_curr_7 + f_curr_8) - (-f_curr_0 + f_curr_2 - f_curr_3 + f_curr_5 - f_curr_6 + f_curr_8)/(f_curr_0 + f_curr_1 + f_curr_2 + f_curr_3 + f_curr_4 + f_curr_5 + f_curr_6 + f_curr_7 + f_curr_8))**2/2 - 3*(-f_curr_0 - f_curr_1 - f_curr_2 + f_curr_6 + f_curr_7 + f_curr_8)**2/(2*(f_curr_0 + f_curr_1 + f_curr_2 + f_curr_3 + f_curr_4 + f_curr_5 + f_curr_6 + f_curr_7 + f_curr_8)**2) - 3*(-f_curr_0 - f_curr_1 - f_curr_2 + f_curr_6 + f_curr_7 + f_curr_8)/(f_curr_0 + f_curr_1 + f_curr_2 + f_curr_3 + f_curr_4 + f_curr_5 + f_curr_6 + f_curr_7 + f_curr_8) - 3*(-f_curr_0 + f_curr_2 - f_curr_3 + f_curr_5 - f_curr_6 + f_curr_8)**2/(2*(f_curr_0 + f_curr_1 + f_curr_2 + f_curr_3 + f_curr_4 + f_curr_5 + f_curr_6 + f_curr_7 + f_curr_8)**2) - 3*(-f_curr_0 + f_curr_2 - f_curr_3 + f_curr_5 - f_curr_6 + f_curr_8)/(f_curr_0 + f_curr_1 + f_curr_2 + f_curr_3 + f_curr_4 + f_curr_5 + f_curr_6 + f_curr_7 + f_curr_8) + 1)*(f_curr_0 + f_curr_1 + f_curr_2 + f_curr_3 + f_curr_4 + f_curr_5 + f_curr_6 + f_curr_7 + f_curr_8)/36)/tau)\n"
     ]
    }
   ],
   "source": [
    "lbm = bgk_collide(moments)\n",
    "print(lbm[0])"
   ]
  },
  {
   "cell_type": "markdown",
   "metadata": {
    "slideshow": {
     "slide_type": "slide"
    }
   },
   "source": [
    "## Common subexpression elimination (CSE)"
   ]
  },
  {
   "cell_type": "code",
   "execution_count": 23,
   "metadata": {
    "slideshow": {
     "slide_type": "fragment"
    }
   },
   "outputs": [],
   "source": [
    "a, b, n, m = symbols('a b n m')\n",
    "exprs = [\n",
    "    a*b + n,\n",
    "    a*b + m\n",
    "]"
   ]
  },
  {
   "cell_type": "code",
   "execution_count": 24,
   "metadata": {
    "slideshow": {
     "slide_type": "fragment"
    }
   },
   "outputs": [
    {
     "data": {
      "image/png": "[encoded data removed]",
      "text/latex": [
       "$$\\left ( \\left [ \\left ( x_{0}, \\quad a b\\right )\\right ], \\quad \\left [ n + x_{0}, \\quad m + x_{0}\\right ]\\right )$$"
      ],
      "text/plain": [
       "([(x₀, a⋅b)], [n + x₀, m + x₀])"
      ]
     },
     "execution_count": 24,
     "metadata": {},
     "output_type": "execute_result"
    }
   ],
   "source": [
    "cse(exprs, optimizations='basic')"
   ]
  },
  {
   "cell_type": "code",
   "execution_count": 25,
   "metadata": {
    "slideshow": {
     "slide_type": "subslide"
    }
   },
   "outputs": [],
   "source": [
    "subexprs, exprs = cse(lbm, optimizations='basic')"
   ]
  },
  {
   "cell_type": "code",
   "execution_count": 26,
   "metadata": {
    "slideshow": {
     "slide_type": "fragment"
    }
   },
   "outputs": [
    {
     "data": {
      "text/latex": [
       "$\\displaystyle \\begin{align} x_{0} &= f_{curr 0} + f_{curr 1} + f_{curr 2} + f_{curr 3} + f_{curr 4} + f_{curr 5} + f_{curr 6} + f_{curr 7} + f_{curr 8}, \\\\ x_{1} &= - f_{curr 3} + f_{curr 5}, \\\\ x_{2} &= - f_{curr 0} + f_{curr 8}, \\\\ x_{3} &= f_{curr 2} - f_{curr 6}, \\\\ x_{4} &= x_{1} + x_{2} + x_{3}, \\\\ x_{5} &= \\frac{6}{x_{0}}, \\\\ x_{6} &= x_{4} x_{5}, \\\\ x_{7} &= 2 f_{curr 0}, \\\\ x_{8} &= 2 f_{curr 8}, \\\\ x_{9} &= - f_{curr 1} + f_{curr 7}, \\\\ x_{10} &= \\frac{1}{x_{0}^{2}}, \\\\ x_{11} &= 9 x_{10}, \\\\ x_{12} &= - f_{curr 2} + f_{curr 6}, \\\\ x_{13} &= x_{12} + x_{2} + x_{9}, \\\\ x_{14} &= x_{4}^{2}, \\\\ x_{15} &= 3 x_{10}, \\\\ x_{16} &= x_{13}^{2} x_{15} - 2, \\\\ x_{17} &= x_{14} x_{15} + x_{16}, \\\\ x_{18} &= \\frac{1}{\\tau}, \\\\ x_{19} &= \\frac{x_{18}}{72}, \\\\ x_{20} &= f_{curr 0} - f_{curr 8}, \\\\ x_{21} &= f_{curr 1} - f_{curr 7}, \\\\ x_{22} &= x_{20} + x_{21} + x_{3}, \\\\ x_{23} &= x_{22} x_{5}, \\\\ x_{24} &= x_{22}^{2}, \\\\ x_{25} &= 6 x_{10}, \\\\ x_{26} &= f_{curr 3} - f_{curr 5}, \\\\ x_{27} &= x_{12} + x_{20} + x_{26}, \\\\ x_{28} &= x_{27}^{2}, \\\\ x_{29} &= - x_{15} x_{28} + 2, \\\\ x_{30} &= x_{24} x_{25} + x_{29}, \\\\ x_{31} &= \\frac{x_{18}}{18}, \\\\ x_{32} &= x_{27} x_{5}, \\\\ x_{33} &= - x_{15} x_{24}, \\\\ x_{34} &= - x_{32} + x_{33}, \\\\ x_{35} &= x_{11} \\left(- 2 f_{curr 2} + 2 f_{curr 6} + x_{26} + x_{9}\\right)^{2} + x_{29}, \\\\ x_{36} &= - x_{23} \\end{align}$"
      ],
      "text/plain": [
       "<IPython.core.display.Math object>"
      ]
     },
     "execution_count": 26,
     "metadata": {},
     "output_type": "execute_result"
    }
   ],
   "source": [
    "aligned(subexprs)"
   ]
  },
  {
   "cell_type": "code",
   "execution_count": 27,
   "metadata": {
    "slideshow": {
     "slide_type": "subslide"
    }
   },
   "outputs": [
    {
     "data": {
      "text/latex": [
       "$\\displaystyle \\begin{align} f_{next 0} &= f_{curr 0} - x_{19} \\left(72 f_{curr 0} + x_{0} \\left(- x_{11} \\left(x_{1} - x_{7} + x_{8} + x_{9}\\right)^{2} + x_{13} x_{5} + x_{17} + x_{6}\\right)\\right), \\\\ f_{next 1} &= f_{curr 1} - x_{31} \\left(18 f_{curr 1} - x_{0} \\left(x_{23} + x_{30}\\right)\\right), \\\\ f_{next 2} &= f_{curr 2} - x_{19} \\left(72 f_{curr 2} - x_{0} \\left(x_{23} + x_{34} + x_{35}\\right)\\right), \\\\ f_{next 3} &= f_{curr 3} - x_{31} \\left(18 f_{curr 3} + x_{0} \\left(- x_{14} x_{25} + x_{16} + x_{6}\\right)\\right), \\\\ f_{next 4} &= f_{curr 4} - \\frac{x_{18} \\left(9 f_{curr 4} + 2 x_{0} x_{17}\\right)}{9}, \\\\ f_{next 5} &= f_{curr 5} - x_{31} \\left(18 f_{curr 5} - x_{0} \\left(x_{25} x_{28} + x_{34} + 2\\right)\\right), \\\\ f_{next 6} &= f_{curr 6} - x_{19} \\left(72 f_{curr 6} - x_{0} \\left(x_{32} + x_{33} + x_{35} + x_{36}\\right)\\right), \\\\ f_{next 7} &= f_{curr 7} - x_{31} \\left(18 f_{curr 7} - x_{0} \\left(x_{30} + x_{36}\\right)\\right), \\\\ f_{next 8} &= f_{curr 8} - x_{19} \\left(72 f_{curr 8} - x_{0} \\left(x_{11} \\left(x_{21} + x_{26} + x_{7} - x_{8}\\right)^{2} + x_{29} + x_{34} + x_{36}\\right)\\right) \\end{align}$"
      ],
      "text/plain": [
       "<IPython.core.display.Math object>"
      ]
     },
     "execution_count": 27,
     "metadata": {},
     "output_type": "execute_result"
    }
   ],
   "source": [
    "aligned(exprs)"
   ]
  },
  {
   "cell_type": "markdown",
   "metadata": {
    "slideshow": {
     "slide_type": "subslide"
    }
   },
   "source": [
    "### Number of operations"
   ]
  },
  {
   "cell_type": "code",
   "execution_count": 28,
   "metadata": {
    "slideshow": {
     "slide_type": "fragment"
    }
   },
   "outputs": [
    {
     "name": "stdout",
     "output_type": "stream",
     "text": [
      "476*ADD + 60*DIV + 9*EQ + 118*MUL + NEG + 40*POW + 146*SUB = 850\n"
     ]
    }
   ],
   "source": [
    "print('%s = %s' % (count_ops(lbm, visual=True), count_ops(lbm)))"
   ]
  },
  {
   "cell_type": "code",
   "execution_count": 29,
   "metadata": {
    "slideshow": {
     "slide_type": "fragment"
    }
   },
   "outputs": [
    {
     "name": "stdout",
     "output_type": "stream",
     "text": [
      "43*ADD + 5*DIV + 9*EQ + 49*MUL + 3*NEG + 8*POW + 31*SUB = 148\n"
     ]
    }
   ],
   "source": [
    "print('%s = %s' % (count_ops([subexprs, exprs], visual=True), count_ops([subexprs, exprs])))"
   ]
  },
  {
   "cell_type": "markdown",
   "metadata": {
    "slideshow": {
     "slide_type": "fragment"
    }
   },
   "source": [
    "### Number of operations in the actual implementation\n",
    "\n",
    "| Model | No-CSE | CSE | Reduction |\n",
    "| ----- | ------ | --- | ----------- |\n",
    "| D2Q9  | 109    | 72  | ~34% |\n",
    "| D3Q19 | 287    | 152 | ~47% |\n",
    "| D3Q27 | 435    | 214 | ~50% |"
   ]
  },
  {
   "cell_type": "markdown",
   "metadata": {
    "slideshow": {
     "slide_type": "slide"
    }
   },
   "source": [
    "## Code generation"
   ]
  },
  {
   "cell_type": "code",
   "execution_count": 30,
   "metadata": {
    "slideshow": {
     "slide_type": "subslide"
    }
   },
   "outputs": [
    {
     "name": "stdout",
     "output_type": "stream",
     "text": [
      "const float x0 = f_curr_0 + f_curr_1 + f_curr_2 + f_curr_3 + f_curr_4 + f_curr_5 + f_curr_6 + f_curr_7 + f_curr_8;\n",
      "const float x1 = -f_curr_3 + f_curr_5;\n",
      "const float x2 = -f_curr_0 + f_curr_8;\n",
      "const float x3 = f_curr_2 - f_curr_6;\n",
      "const float x4 = x1 + x2 + x3;\n",
      "const float x5 = 6/x0;\n",
      "const float x6 = x4*x5;\n",
      "const float x7 = 2*f_curr_0;\n",
      "const float x8 = 2*f_curr_8;\n",
      "const float x9 = -f_curr_1 + f_curr_7;\n",
      "const float x10 = pow(x0, -2);\n",
      "const float x11 = 9*x10;\n",
      "const float x12 = -f_curr_2 + f_curr_6;\n",
      "const float x13 = x12 + x2 + x9;\n",
      "const float x14 = pow(x4, 2);\n",
      "const float x15 = 3*x10;\n",
      "const float x16 = pow(x13, 2)*x15 - 2;\n",
      "const float x17 = x14*x15 + x16;\n",
      "const float x18 = 1.0/tau;\n",
      "const float x19 = (1.0/72.0)*x18;\n",
      "const float x20 = f_curr_0 - f_curr_8;\n",
      "const float x21 = f_curr_1 - f_curr_7;\n",
      "const float x22 = x20 + x21 + x3;\n",
      "const float x23 = x22*x5;\n",
      "const float x24 = pow(x22, 2);\n",
      "const float x25 = 6*x10;\n",
      "const float x26 = f_curr_3 - f_curr_5;\n",
      "const float x27 = x12 + x20 + x26;\n",
      "const float x28 = pow(x27, 2);\n",
      "const float x29 = -x15*x28 + 2;\n",
      "const float x30 = x24*x25 + x29;\n",
      "const float x31 = (1.0/18.0)*x18;\n",
      "const float x32 = x27*x5;\n",
      "const float x33 = -x15*x24;\n",
      "const float x34 = -x32 + x33;\n",
      "const float x35 = x11*pow(-2*f_curr_2 + 2*f_curr_6 + x26 + x9, 2) + x29;\n",
      "const float x36 = -x23;\n"
     ]
    }
   ],
   "source": [
    "for expr in subexprs:\n",
    "    print(\"const float %s = %s;\" % (expr[0], ccode(expr[1])))"
   ]
  },
  {
   "cell_type": "code",
   "execution_count": 31,
   "metadata": {
    "slideshow": {
     "slide_type": "subslide"
    }
   },
   "outputs": [
    {
     "name": "stdout",
     "output_type": "stream",
     "text": [
      "f_next_0 = f_curr_0 - x19*(72*f_curr_0 + x0*(-x11*pow(x1 - x7 + x8 + x9, 2) + x13*x5 + x17 + x6));\n",
      "f_next_1 = f_curr_1 - x31*(18*f_curr_1 - x0*(x23 + x30));\n",
      "f_next_2 = f_curr_2 - x19*(72*f_curr_2 - x0*(x23 + x34 + x35));\n",
      "f_next_3 = f_curr_3 - x31*(18*f_curr_3 + x0*(-x14*x25 + x16 + x6));\n",
      "f_next_4 = f_curr_4 - 1.0/9.0*x18*(9*f_curr_4 + 2*x0*x17);\n",
      "f_next_5 = f_curr_5 - x31*(18*f_curr_5 - x0*(x25*x28 + x34 + 2));\n",
      "f_next_6 = f_curr_6 - x19*(72*f_curr_6 - x0*(x32 + x33 + x35 + x36));\n",
      "f_next_7 = f_curr_7 - x31*(18*f_curr_7 - x0*(x30 + x36));\n",
      "f_next_8 = f_curr_8 - x19*(72*f_curr_8 - x0*(x11*pow(x21 + x26 + x7 - x8, 2) + x29 + x34 + x36));\n"
     ]
    }
   ],
   "source": [
    "for i, expr in enumerate(exprs):\n",
    "    print(\"%s = %s;\" % (ccode(expr.lhs), ccode(expr.rhs)))"
   ]
  },
  {
   "cell_type": "markdown",
   "metadata": {
    "slideshow": {
     "slide_type": "slide"
    }
   },
   "source": [
    "## Evaluation"
   ]
  },
  {
   "cell_type": "markdown",
   "metadata": {
    "slideshow": {
     "slide_type": "fragment"
    }
   },
   "source": [
    "$$\\text{MLUPS} := \\frac{n_\\text{cells} \\ n_\\text{updates}}{10^6 \\, \\Delta t}$$\n"
   ]
  },
  {
   "cell_type": "markdown",
   "metadata": {
    "slideshow": {
     "slide_type": "skip"
    }
   },
   "source": [
    "### Theoretical maximum performance\n",
    "\n",
    "$$\\text{MLUPS}_\\text{max} := \\frac{B_\\text{max}}{B_\\text{update} 10^6}$$\n"
   ]
  },
  {
   "cell_type": "markdown",
   "metadata": {
    "slideshow": {
     "slide_type": "fragment"
    }
   },
   "source": [
    "### Measured performance..."
   ]
  },
  {
   "cell_type": "markdown",
   "metadata": {
    "slideshow": {
     "slide_type": "fragment"
    }
   },
   "source": [
    "| CSE    | D2Q9   | &nbsp; | D3Q19  | &nbsp; | D3Q27  | &nbsp; |\n",
    "| ------ | ------ | ------ | ------ | ------ | ------ | ------ |\n",
    "| &nbsp; | single | double | single | double | single | double |\n",
    "| No     | 6957.4 | 2814.4 | 2581.8 |  998.8 | 1576.4 |  647.4 |\n",
    "| Yes    | 6922.4 | 3585.0 | 3420.2 | 1763.8 | 2374.6 | 1259.6 |"
   ]
  },
  {
   "cell_type": "markdown",
   "metadata": {
    "slideshow": {
     "slide_type": "fragment"
    }
   },
   "source": [
    "### …compared to theoretical maximum"
   ]
  },
  {
   "cell_type": "markdown",
   "metadata": {
    "slideshow": {
     "slide_type": "fragment"
    }
   },
   "source": [
    "| GPU    | Bandwidth   | D2Q9   | &nbsp; | D3Q19  | &nbsp; | D3Q27  | &nbsp; | \n",
    "| ------ | ----------- | ------ | ------ | ------ | ------ | ------ | ------ |\n",
    "| &nbsp; | &nbsp;      | single | double | single | double | single | double | \n",
    "| P100   | 512.6 GiB/s | 7242   | 3719   | 3528   | 1787   | 2502   | 1262   |"
   ]
  },
  {
   "cell_type": "markdown",
   "metadata": {
    "slideshow": {
     "slide_type": "fragment"
    }
   },
   "source": [
    "| CSE    | D2Q9   | &nbsp; | D3Q19  | &nbsp; | D3Q27  | &nbsp; |\n",
    "| ------ | ------ | ------ | ------ | ------ | ------ | ------ |\n",
    "| &nbsp; | single | double | single | double | single | double |\n",
    "| No     | 96.1%  | 75.7%  | 73.2%  | 55.9%  | 63.0%  | 51.3%  |\n",
    "| Yes    | 95.6%  | 96.4%  | 96.9%  | 98.7%  | 94.9%  | 99.8%  |"
   ]
  },
  {
   "cell_type": "code",
   "execution_count": 32,
   "metadata": {
    "slideshow": {
     "slide_type": "skip"
    }
   },
   "outputs": [],
   "source": [
    "import matplotlib\n",
    "import matplotlib.pyplot as plt\n",
    "import numpy\n",
    "from result.ldc_2d_benchmark_P100  import ldc_2d_p100\n",
    "from result.ldc_3d_benchmark_P100  import ldc_3d_p100\n",
    "\n",
    "p100_max_bandwidth = 512.6*1024**3\n",
    "\n",
    "def max_mlups(b, q, precision):\n",
    "    return b / ((2*q*precision+4)*10**6)\n",
    "\n",
    "def descriptor_subset(data, descriptor):\n",
    "    return list(\n",
    "        map(lambda m: (m[0][0:2] + m[0][3:], m[1]),\n",
    "            filter(lambda m: m[0][2] == descriptor, data)))\n",
    "\n",
    "ldc_3d_D3Q19_p100  = descriptor_subset(ldc_3d_p100,  'symbolic.D3Q19')\n",
    "ldc_3d_D3Q27_p100  = descriptor_subset(ldc_3d_p100,  'symbolic.D3Q27')\n",
    "\n",
    "def values(data, index):\n",
    "    return set(map(lambda m: m[0][index], data))\n",
    "\n",
    "def has(value, options):\n",
    "    if options == None:\n",
    "        return True\n",
    "    elif callable(options):\n",
    "        return options(value)\n",
    "    else:\n",
    "        return value in options\n",
    "\n",
    "def subset(data, size=None, layout=None, precision=None, optimization=None, align=None):\n",
    "    return list(\n",
    "        filter(lambda m: has(m[0][0], size) and\n",
    "               has(m[0][1][0], layout) and\n",
    "               has(m[0][2], precision) and\n",
    "               has(m[0][3], optimization) and\n",
    "               has(m[0][4], align),\n",
    "               data))\n",
    "\n",
    "def mlups_for_size(measurement):\n",
    "    dim = len(list(measurement[0][1]))\n",
    "    return (measurement[0][0]**dim, numpy.average(measurement[1]))\n",
    "\n",
    "def scatter(data, **kwargs):\n",
    "    plt.scatter(*zip(*list(data)), **kwargs)\n",
    "    \n",
    "def mlups_per_size_overview_plot(data, title, **kwargs):\n",
    "    plt.figure(figsize=(12,8))\n",
    "    plt.grid()\n",
    "    plt.title(title)\n",
    "    plt.xscale('log')\n",
    "    plt.xlabel('Cells')\n",
    "    plt.ylabel('MLUPS')\n",
    "    plt.gca().yaxis.set_major_formatter(matplotlib.ticker.FormatStrFormatter('%4d'))\n",
    "    scatter(map(mlups_for_size, subset(data, precision=['single'], optimization=[True], **kwargs)), label='single, CSE', s=16)\n",
    "    scatter(map(mlups_for_size, subset(data, precision=['double'], optimization=[True], **kwargs)), label='double, CSE', s=16)\n",
    "    scatter(map(mlups_for_size, subset(data, precision=['single'], optimization=[False], **kwargs)), label='single, not-CSE', s=16)\n",
    "    scatter(map(mlups_for_size, subset(data, precision=['double'], optimization=[False], **kwargs)), label='double, not-CSE', s=16)\n",
    "    plt.legend()"
   ]
  },
  {
   "cell_type": "code",
   "execution_count": 33,
   "metadata": {
    "slideshow": {
     "slide_type": "subslide"
    }
   },
   "outputs": [
    {
     "data": {
      "image/png": "[encoded data removed]",
      "text/plain": [
       "<Figure size 864x576 with 1 Axes>"
      ]
     },
     "metadata": {
      "needs_background": "light"
     },
     "output_type": "display_data"
    }
   ],
   "source": [
    "mlups_per_size_overview_plot(ldc_3d_D3Q27_p100, 'Performance of D3Q27 LDC @ Tesla P100')"
   ]
  },
  {
   "cell_type": "markdown",
   "metadata": {
    "slideshow": {
     "slide_type": "slide"
    }
   },
   "source": [
    "### Some references\n",
    "\n",
    "- T. Krüger, H. Kusumaatmaja, A. Kuzmin, O. Shardt, G. Silva, and E. M. Viggen. The Lattice Boltzmann Method: Principles and Practice. Graduate Texts in Physics. Springer International Publishing, 2017.\n",
    "- Xiaoyi He and Li-Shi Luo. “Theory of the lattice Boltzmann method: From the Boltzmann equation to the lattice Boltzmann equation”. In: PHYSICAL REVIEW E 56 (Dec. 1997), pp. 6811–6817.\n",
    "- Michal Januszewski and Marcin Kostur. “Sailfish: a flexible multi-GPU implementation of the lattice Boltzmann method”. In: (2013). doi: 10.1016/j.cpc.2014.04.018. eprint: arXiv:1311.2404.\n",
    "\n",
    "### Try it out for yourself\n",
    "\n",
    "* https://code.kummerlaender.eu/symlbm_playground/"
   ]
  }
 ],
 "metadata": {
  "celltoolbar": "Slideshow",
  "kernelspec": {
   "display_name": "Python 3",
   "language": "python",
   "name": "python3"
  },
  "language_info": {
   "codemirror_mode": {
    "name": "ipython",
    "version": 3
   },
   "file_extension": ".py",
   "mimetype": "text/x-python",
   "name": "python",
   "nbconvert_exporter": "python",
   "pygments_lexer": "ipython3",
   "version": "3.7.3"
  }
 },
 "nbformat": 4,
 "nbformat_minor": 2
}
